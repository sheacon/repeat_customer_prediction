{
 "cells": [
  {
   "cell_type": "markdown",
   "id": "ebf830c5-188e-4010-bddb-295a0d336d12",
   "metadata": {},
   "source": [
    "# 23-eda-individuals\n",
    "\n",
    "> Exploratory data analysis - individuals\n",
    "\n",
    "This is EDA based around the individuals table. Personal-level analysis includes individual-car, individual-sale, and individual-products."
   ]
  },
  {
   "cell_type": "code",
   "execution_count": null,
   "id": "436bceeb-9338-472a-84fc-c6d1f302e1ea",
   "metadata": {},
   "outputs": [],
   "source": [
    "# import libs\n",
    "import seaborn as sns"
   ]
  },
  {
   "cell_type": "code",
   "execution_count": null,
   "id": "5227357f-e189-4b8f-ad8b-da206283b879",
   "metadata": {},
   "outputs": [
    {
     "data": {
      "text/html": [
       "<div>\n",
       "<style scoped>\n",
       "    .dataframe tbody tr th:only-of-type {\n",
       "        vertical-align: middle;\n",
       "    }\n",
       "\n",
       "    .dataframe tbody tr th {\n",
       "        vertical-align: top;\n",
       "    }\n",
       "\n",
       "    .dataframe thead th {\n",
       "        text-align: right;\n",
       "    }\n",
       "</style>\n",
       "<table border=\"1\" class=\"dataframe\">\n",
       "  <thead>\n",
       "    <tr style=\"text-align: right;\">\n",
       "      <th></th>\n",
       "      <th>unnamed_0</th>\n",
       "      <th>indiv_id</th>\n",
       "      <th>email_optin_ind</th>\n",
       "      <th>ah1_res_bus_indc</th>\n",
       "      <th>supp1_bus_pander</th>\n",
       "    </tr>\n",
       "  </thead>\n",
       "  <tbody>\n",
       "    <tr>\n",
       "      <th>0</th>\n",
       "      <td>2302009</td>\n",
       "      <td>263098627</td>\n",
       "      <td>Y</td>\n",
       "      <td>R</td>\n",
       "      <td>N</td>\n",
       "    </tr>\n",
       "    <tr>\n",
       "      <th>1</th>\n",
       "      <td>12836285</td>\n",
       "      <td>369527724</td>\n",
       "      <td>Y</td>\n",
       "      <td>R</td>\n",
       "      <td>N</td>\n",
       "    </tr>\n",
       "    <tr>\n",
       "      <th>2</th>\n",
       "      <td>16337753</td>\n",
       "      <td>552976498</td>\n",
       "      <td>Y</td>\n",
       "      <td>R</td>\n",
       "      <td>N</td>\n",
       "    </tr>\n",
       "    <tr>\n",
       "      <th>3</th>\n",
       "      <td>14239232</td>\n",
       "      <td>464651569</td>\n",
       "      <td>Y</td>\n",
       "      <td>R</td>\n",
       "      <td>N</td>\n",
       "    </tr>\n",
       "    <tr>\n",
       "      <th>4</th>\n",
       "      <td>3117446</td>\n",
       "      <td>267341408</td>\n",
       "      <td>Y</td>\n",
       "      <td>R</td>\n",
       "      <td>N</td>\n",
       "    </tr>\n",
       "  </tbody>\n",
       "</table>\n",
       "</div>"
      ],
      "text/plain": [
       "   unnamed_0   indiv_id email_optin_ind ah1_res_bus_indc supp1_bus_pander\n",
       "0    2302009  263098627               Y                R                N\n",
       "1   12836285  369527724               Y                R                N\n",
       "2   16337753  552976498               Y                R                N\n",
       "3   14239232  464651569               Y                R                N\n",
       "4    3117446  267341408               Y                R                N"
      ]
     },
     "execution_count": null,
     "metadata": {},
     "output_type": "execute_result"
    }
   ],
   "source": [
    "individual_sample.head()"
   ]
  },
  {
   "cell_type": "code",
   "execution_count": null,
   "id": "07abbace-466a-4876-8584-c90425c7fef1",
   "metadata": {},
   "outputs": [
    {
     "data": {
      "text/plain": [
       "array(['Y'], dtype=object)"
      ]
     },
     "execution_count": null,
     "metadata": {},
     "output_type": "execute_result"
    }
   ],
   "source": [
    "individual_sample.email_optin_ind.unique()"
   ]
  },
  {
   "cell_type": "code",
   "execution_count": null,
   "id": "e7e5c5cc-3202-42ba-aad3-64d20dd39a15",
   "metadata": {},
   "outputs": [
    {
     "data": {
      "text/plain": [
       "array(['R'], dtype=object)"
      ]
     },
     "execution_count": null,
     "metadata": {},
     "output_type": "execute_result"
    }
   ],
   "source": [
    "individual_sample.ah1_res_bus_indc.unique()"
   ]
  },
  {
   "cell_type": "code",
   "execution_count": null,
   "id": "40d5f290-7e09-4bd5-8091-b62318cc8bdc",
   "metadata": {},
   "outputs": [
    {
     "data": {
      "text/plain": [
       "array(['N'], dtype=object)"
      ]
     },
     "execution_count": null,
     "metadata": {},
     "output_type": "execute_result"
    }
   ],
   "source": [
    "individual_sample.supp1_bus_pander.unique()"
   ]
  },
  {
   "cell_type": "markdown",
   "id": "d9ed0096-4de5-4a17-a7ba-4791ad69043e",
   "metadata": {},
   "source": [
    "There is no useful information based on only individuals table."
   ]
  },
  {
   "cell_type": "code",
   "execution_count": null,
   "id": "8b22bf6a-f331-4619-bd93-42de4fc57ec5",
   "metadata": {},
   "outputs": [
    {
     "data": {
      "text/html": [
       "<div>\n",
       "<style scoped>\n",
       "    .dataframe tbody tr th:only-of-type {\n",
       "        vertical-align: middle;\n",
       "    }\n",
       "\n",
       "    .dataframe tbody tr th {\n",
       "        vertical-align: top;\n",
       "    }\n",
       "\n",
       "    .dataframe thead th {\n",
       "        text-align: right;\n",
       "    }\n",
       "</style>\n",
       "<table border=\"1\" class=\"dataframe\">\n",
       "  <thead>\n",
       "    <tr style=\"text-align: right;\">\n",
       "      <th></th>\n",
       "      <th>unnamed_0_x</th>\n",
       "      <th>store_id</th>\n",
       "      <th>tran_id</th>\n",
       "      <th>date</th>\n",
       "      <th>article_id</th>\n",
       "      <th>indiv_id</th>\n",
       "      <th>vehicle_id</th>\n",
       "      <th>units</th>\n",
       "      <th>sales</th>\n",
       "      <th>prod_group_code</th>\n",
       "      <th>...</th>\n",
       "      <th>msa</th>\n",
       "      <th>unnamed_0_y</th>\n",
       "      <th>email_optin_ind</th>\n",
       "      <th>ah1_res_bus_indc</th>\n",
       "      <th>supp1_bus_pander</th>\n",
       "      <th>unnamed_0</th>\n",
       "      <th>make</th>\n",
       "      <th>model</th>\n",
       "      <th>sub_model</th>\n",
       "      <th>model_year</th>\n",
       "    </tr>\n",
       "  </thead>\n",
       "  <tbody>\n",
       "    <tr>\n",
       "      <th>0</th>\n",
       "      <td>1</td>\n",
       "      <td>337934</td>\n",
       "      <td>990994590</td>\n",
       "      <td>2018-07-23</td>\n",
       "      <td>7001647</td>\n",
       "      <td>318422234.0</td>\n",
       "      <td>944814728</td>\n",
       "      <td>0.0</td>\n",
       "      <td>-8.55</td>\n",
       "      <td>4.0</td>\n",
       "      <td>...</td>\n",
       "      <td>HAGERSTOWN</td>\n",
       "      <td>11239886</td>\n",
       "      <td>Y</td>\n",
       "      <td>R</td>\n",
       "      <td>N</td>\n",
       "      <td>NaN</td>\n",
       "      <td>NaN</td>\n",
       "      <td>NaN</td>\n",
       "      <td>NaN</td>\n",
       "      <td>NaN</td>\n",
       "    </tr>\n",
       "    <tr>\n",
       "      <th>1</th>\n",
       "      <td>2</td>\n",
       "      <td>337934</td>\n",
       "      <td>990994590</td>\n",
       "      <td>2018-07-23</td>\n",
       "      <td>7001715</td>\n",
       "      <td>318422234.0</td>\n",
       "      <td>944814728</td>\n",
       "      <td>0.0</td>\n",
       "      <td>-50.45</td>\n",
       "      <td>4.0</td>\n",
       "      <td>...</td>\n",
       "      <td>HAGERSTOWN</td>\n",
       "      <td>11239886</td>\n",
       "      <td>Y</td>\n",
       "      <td>R</td>\n",
       "      <td>N</td>\n",
       "      <td>NaN</td>\n",
       "      <td>NaN</td>\n",
       "      <td>NaN</td>\n",
       "      <td>NaN</td>\n",
       "      <td>NaN</td>\n",
       "    </tr>\n",
       "    <tr>\n",
       "      <th>2</th>\n",
       "      <td>3</td>\n",
       "      <td>337934</td>\n",
       "      <td>990994590</td>\n",
       "      <td>2018-07-23</td>\n",
       "      <td>7096547</td>\n",
       "      <td>318422234.0</td>\n",
       "      <td>944814728</td>\n",
       "      <td>0.0</td>\n",
       "      <td>10.00</td>\n",
       "      <td>4.0</td>\n",
       "      <td>...</td>\n",
       "      <td>HAGERSTOWN</td>\n",
       "      <td>11239886</td>\n",
       "      <td>Y</td>\n",
       "      <td>R</td>\n",
       "      <td>N</td>\n",
       "      <td>NaN</td>\n",
       "      <td>NaN</td>\n",
       "      <td>NaN</td>\n",
       "      <td>NaN</td>\n",
       "      <td>NaN</td>\n",
       "    </tr>\n",
       "    <tr>\n",
       "      <th>3</th>\n",
       "      <td>4</td>\n",
       "      <td>337934</td>\n",
       "      <td>990994590</td>\n",
       "      <td>2018-07-23</td>\n",
       "      <td>7001647</td>\n",
       "      <td>318422234.0</td>\n",
       "      <td>944814728</td>\n",
       "      <td>0.0</td>\n",
       "      <td>0.00</td>\n",
       "      <td>4.0</td>\n",
       "      <td>...</td>\n",
       "      <td>HAGERSTOWN</td>\n",
       "      <td>11239886</td>\n",
       "      <td>Y</td>\n",
       "      <td>R</td>\n",
       "      <td>N</td>\n",
       "      <td>NaN</td>\n",
       "      <td>NaN</td>\n",
       "      <td>NaN</td>\n",
       "      <td>NaN</td>\n",
       "      <td>NaN</td>\n",
       "    </tr>\n",
       "    <tr>\n",
       "      <th>4</th>\n",
       "      <td>5</td>\n",
       "      <td>337934</td>\n",
       "      <td>990994590</td>\n",
       "      <td>2018-07-23</td>\n",
       "      <td>7001715</td>\n",
       "      <td>318422234.0</td>\n",
       "      <td>944814728</td>\n",
       "      <td>0.0</td>\n",
       "      <td>0.00</td>\n",
       "      <td>4.0</td>\n",
       "      <td>...</td>\n",
       "      <td>HAGERSTOWN</td>\n",
       "      <td>11239886</td>\n",
       "      <td>Y</td>\n",
       "      <td>R</td>\n",
       "      <td>N</td>\n",
       "      <td>NaN</td>\n",
       "      <td>NaN</td>\n",
       "      <td>NaN</td>\n",
       "      <td>NaN</td>\n",
       "      <td>NaN</td>\n",
       "    </tr>\n",
       "  </tbody>\n",
       "</table>\n",
       "<p>5 rows × 33 columns</p>\n",
       "</div>"
      ],
      "text/plain": [
       "   unnamed_0_x  store_id    tran_id        date  article_id     indiv_id  \\\n",
       "0            1    337934  990994590  2018-07-23     7001647  318422234.0   \n",
       "1            2    337934  990994590  2018-07-23     7001715  318422234.0   \n",
       "2            3    337934  990994590  2018-07-23     7096547  318422234.0   \n",
       "3            4    337934  990994590  2018-07-23     7001647  318422234.0   \n",
       "4            5    337934  990994590  2018-07-23     7001715  318422234.0   \n",
       "\n",
       "   vehicle_id  units  sales  prod_group_code  ...         msa  unnamed_0_y  \\\n",
       "0   944814728    0.0  -8.55              4.0  ...  HAGERSTOWN     11239886   \n",
       "1   944814728    0.0 -50.45              4.0  ...  HAGERSTOWN     11239886   \n",
       "2   944814728    0.0  10.00              4.0  ...  HAGERSTOWN     11239886   \n",
       "3   944814728    0.0   0.00              4.0  ...  HAGERSTOWN     11239886   \n",
       "4   944814728    0.0   0.00              4.0  ...  HAGERSTOWN     11239886   \n",
       "\n",
       "  email_optin_ind  ah1_res_bus_indc supp1_bus_pander  unnamed_0 make model  \\\n",
       "0               Y                 R                N        NaN  NaN   NaN   \n",
       "1               Y                 R                N        NaN  NaN   NaN   \n",
       "2               Y                 R                N        NaN  NaN   NaN   \n",
       "3               Y                 R                N        NaN  NaN   NaN   \n",
       "4               Y                 R                N        NaN  NaN   NaN   \n",
       "\n",
       "  sub_model model_year  \n",
       "0       NaN        NaN  \n",
       "1       NaN        NaN  \n",
       "2       NaN        NaN  \n",
       "3       NaN        NaN  \n",
       "4       NaN        NaN  \n",
       "\n",
       "[5 rows x 33 columns]"
      ]
     },
     "execution_count": null,
     "metadata": {},
     "output_type": "execute_result"
    }
   ],
   "source": [
    "mega_table.head()"
   ]
  },
  {
   "cell_type": "code",
   "execution_count": null,
   "id": "3ad0d33d-2c3d-485f-8336-a4ebb12936a0",
   "metadata": {},
   "outputs": [],
   "source": [
    "veh_sales = mega_table.groupby('indiv_id').agg({'vehicle_id':'count', 'sales':'sum'})"
   ]
  },
  {
   "cell_type": "code",
   "execution_count": null,
   "id": "1cd8973f-f43c-4701-b5d1-97cd87980c39",
   "metadata": {},
   "outputs": [
    {
     "data": {
      "text/html": [
       "<div>\n",
       "<style scoped>\n",
       "    .dataframe tbody tr th:only-of-type {\n",
       "        vertical-align: middle;\n",
       "    }\n",
       "\n",
       "    .dataframe tbody tr th {\n",
       "        vertical-align: top;\n",
       "    }\n",
       "\n",
       "    .dataframe thead th {\n",
       "        text-align: right;\n",
       "    }\n",
       "</style>\n",
       "<table border=\"1\" class=\"dataframe\">\n",
       "  <thead>\n",
       "    <tr style=\"text-align: right;\">\n",
       "      <th></th>\n",
       "      <th>vehicle_id</th>\n",
       "      <th>sales</th>\n",
       "      <th>sales_per_vehicle</th>\n",
       "    </tr>\n",
       "    <tr>\n",
       "      <th>indiv_id</th>\n",
       "      <th></th>\n",
       "      <th></th>\n",
       "      <th></th>\n",
       "    </tr>\n",
       "  </thead>\n",
       "  <tbody>\n",
       "    <tr>\n",
       "      <th>251635131.0</th>\n",
       "      <td>91</td>\n",
       "      <td>487.75</td>\n",
       "      <td>5.359890</td>\n",
       "    </tr>\n",
       "    <tr>\n",
       "      <th>251636073.0</th>\n",
       "      <td>180</td>\n",
       "      <td>2656.93</td>\n",
       "      <td>14.760722</td>\n",
       "    </tr>\n",
       "    <tr>\n",
       "      <th>251636235.0</th>\n",
       "      <td>1</td>\n",
       "      <td>0.00</td>\n",
       "      <td>0.000000</td>\n",
       "    </tr>\n",
       "    <tr>\n",
       "      <th>251636752.0</th>\n",
       "      <td>59</td>\n",
       "      <td>1678.38</td>\n",
       "      <td>28.447119</td>\n",
       "    </tr>\n",
       "    <tr>\n",
       "      <th>251638270.0</th>\n",
       "      <td>70</td>\n",
       "      <td>678.87</td>\n",
       "      <td>9.698143</td>\n",
       "    </tr>\n",
       "    <tr>\n",
       "      <th>...</th>\n",
       "      <td>...</td>\n",
       "      <td>...</td>\n",
       "      <td>...</td>\n",
       "    </tr>\n",
       "    <tr>\n",
       "      <th>654009201.0</th>\n",
       "      <td>51</td>\n",
       "      <td>1252.52</td>\n",
       "      <td>24.559216</td>\n",
       "    </tr>\n",
       "    <tr>\n",
       "      <th>654197901.0</th>\n",
       "      <td>66</td>\n",
       "      <td>478.84</td>\n",
       "      <td>7.255152</td>\n",
       "    </tr>\n",
       "    <tr>\n",
       "      <th>654387841.0</th>\n",
       "      <td>8</td>\n",
       "      <td>27.22</td>\n",
       "      <td>3.402500</td>\n",
       "    </tr>\n",
       "    <tr>\n",
       "      <th>654580123.0</th>\n",
       "      <td>146</td>\n",
       "      <td>1294.46</td>\n",
       "      <td>8.866164</td>\n",
       "    </tr>\n",
       "    <tr>\n",
       "      <th>654580244.0</th>\n",
       "      <td>218</td>\n",
       "      <td>3436.90</td>\n",
       "      <td>15.765596</td>\n",
       "    </tr>\n",
       "  </tbody>\n",
       "</table>\n",
       "<p>82959 rows × 3 columns</p>\n",
       "</div>"
      ],
      "text/plain": [
       "             vehicle_id    sales  sales_per_vehicle\n",
       "indiv_id                                           \n",
       "251635131.0          91   487.75           5.359890\n",
       "251636073.0         180  2656.93          14.760722\n",
       "251636235.0           1     0.00           0.000000\n",
       "251636752.0          59  1678.38          28.447119\n",
       "251638270.0          70   678.87           9.698143\n",
       "...                 ...      ...                ...\n",
       "654009201.0          51  1252.52          24.559216\n",
       "654197901.0          66   478.84           7.255152\n",
       "654387841.0           8    27.22           3.402500\n",
       "654580123.0         146  1294.46           8.866164\n",
       "654580244.0         218  3436.90          15.765596\n",
       "\n",
       "[82959 rows x 3 columns]"
      ]
     },
     "execution_count": null,
     "metadata": {},
     "output_type": "execute_result"
    }
   ],
   "source": [
    "veh_sales['sales_per_vehicle'] = veh_sales['sales']/veh_sales['vehicle_id']\n"
   ]
  },
  {
   "cell_type": "code",
   "execution_count": null,
   "id": "2fbb54a9-7d6d-4f75-afae-d855ca666b8a",
   "metadata": {},
   "outputs": [
    {
     "data": {
      "text/html": [
       "<div>\n",
       "<style scoped>\n",
       "    .dataframe tbody tr th:only-of-type {\n",
       "        vertical-align: middle;\n",
       "    }\n",
       "\n",
       "    .dataframe tbody tr th {\n",
       "        vertical-align: top;\n",
       "    }\n",
       "\n",
       "    .dataframe thead th {\n",
       "        text-align: right;\n",
       "    }\n",
       "</style>\n",
       "<table border=\"1\" class=\"dataframe\">\n",
       "  <thead>\n",
       "    <tr style=\"text-align: right;\">\n",
       "      <th></th>\n",
       "      <th>vehicle_id</th>\n",
       "      <th>sales</th>\n",
       "      <th>sales_per_vehicle</th>\n",
       "    </tr>\n",
       "    <tr>\n",
       "      <th>indiv_id</th>\n",
       "      <th></th>\n",
       "      <th></th>\n",
       "      <th></th>\n",
       "    </tr>\n",
       "  </thead>\n",
       "  <tbody>\n",
       "    <tr>\n",
       "      <th>251635131.0</th>\n",
       "      <td>91</td>\n",
       "      <td>487.75</td>\n",
       "      <td>5.359890</td>\n",
       "    </tr>\n",
       "    <tr>\n",
       "      <th>251636073.0</th>\n",
       "      <td>180</td>\n",
       "      <td>2656.93</td>\n",
       "      <td>14.760722</td>\n",
       "    </tr>\n",
       "    <tr>\n",
       "      <th>251636235.0</th>\n",
       "      <td>1</td>\n",
       "      <td>0.00</td>\n",
       "      <td>0.000000</td>\n",
       "    </tr>\n",
       "    <tr>\n",
       "      <th>251636752.0</th>\n",
       "      <td>59</td>\n",
       "      <td>1678.38</td>\n",
       "      <td>28.447119</td>\n",
       "    </tr>\n",
       "    <tr>\n",
       "      <th>251638270.0</th>\n",
       "      <td>70</td>\n",
       "      <td>678.87</td>\n",
       "      <td>9.698143</td>\n",
       "    </tr>\n",
       "    <tr>\n",
       "      <th>...</th>\n",
       "      <td>...</td>\n",
       "      <td>...</td>\n",
       "      <td>...</td>\n",
       "    </tr>\n",
       "    <tr>\n",
       "      <th>654009201.0</th>\n",
       "      <td>51</td>\n",
       "      <td>1252.52</td>\n",
       "      <td>24.559216</td>\n",
       "    </tr>\n",
       "    <tr>\n",
       "      <th>654197901.0</th>\n",
       "      <td>66</td>\n",
       "      <td>478.84</td>\n",
       "      <td>7.255152</td>\n",
       "    </tr>\n",
       "    <tr>\n",
       "      <th>654387841.0</th>\n",
       "      <td>8</td>\n",
       "      <td>27.22</td>\n",
       "      <td>3.402500</td>\n",
       "    </tr>\n",
       "    <tr>\n",
       "      <th>654580123.0</th>\n",
       "      <td>146</td>\n",
       "      <td>1294.46</td>\n",
       "      <td>8.866164</td>\n",
       "    </tr>\n",
       "    <tr>\n",
       "      <th>654580244.0</th>\n",
       "      <td>218</td>\n",
       "      <td>3436.90</td>\n",
       "      <td>15.765596</td>\n",
       "    </tr>\n",
       "  </tbody>\n",
       "</table>\n",
       "<p>82959 rows × 3 columns</p>\n",
       "</div>"
      ],
      "text/plain": [
       "             vehicle_id    sales  sales_per_vehicle\n",
       "indiv_id                                           \n",
       "251635131.0          91   487.75           5.359890\n",
       "251636073.0         180  2656.93          14.760722\n",
       "251636235.0           1     0.00           0.000000\n",
       "251636752.0          59  1678.38          28.447119\n",
       "251638270.0          70   678.87           9.698143\n",
       "...                 ...      ...                ...\n",
       "654009201.0          51  1252.52          24.559216\n",
       "654197901.0          66   478.84           7.255152\n",
       "654387841.0           8    27.22           3.402500\n",
       "654580123.0         146  1294.46           8.866164\n",
       "654580244.0         218  3436.90          15.765596\n",
       "\n",
       "[82959 rows x 3 columns]"
      ]
     },
     "execution_count": null,
     "metadata": {},
     "output_type": "execute_result"
    }
   ],
   "source": [
    "veh_sales"
   ]
  },
  {
   "cell_type": "code",
   "execution_count": null,
   "id": "5cf48d7c-4867-494c-b265-2aedbec0e0cc",
   "metadata": {},
   "outputs": [
    {
     "data": {
      "text/plain": [
       "<seaborn.axisgrid.FacetGrid at 0x16df91070>"
      ]
     },
     "execution_count": null,
     "metadata": {},
     "output_type": "execute_result"
    },
    {
     "data": {
      "image/png": "[encoded data removed]",
      "text/plain": [
       "<Figure size 360x360 with 1 Axes>"
      ]
     },
     "metadata": {
      "needs_background": "light"
     },
     "output_type": "display_data"
    }
   ],
   "source": [
    "sns.displot(veh_sales['vehicle_id'])"
   ]
  },
  {
   "cell_type": "code",
   "execution_count": null,
   "id": "9b6f6d98-fe1c-4365-9324-62c41a1c1356",
   "metadata": {},
   "outputs": [
    {
     "data": {
      "text/plain": [
       "<seaborn.axisgrid.FacetGrid at 0x16deeeca0>"
      ]
     },
     "execution_count": null,
     "metadata": {},
     "output_type": "execute_result"
    },
    {
     "data": {
      "image/png": "[encoded data removed]",
      "text/plain": [
       "<Figure size 360x360 with 1 Axes>"
      ]
     },
     "metadata": {
      "needs_background": "light"
     },
     "output_type": "display_data"
    }
   ],
   "source": [
    "sns.displot(np.log(veh_sales['vehicle_id']))"
   ]
  },
  {
   "cell_type": "code",
   "execution_count": null,
   "id": "9aff1b69-46fe-4eef-aa8c-ffee01aef2a1",
   "metadata": {},
   "outputs": [
    {
     "data": {
      "text/plain": [
       "<seaborn.axisgrid.FacetGrid at 0x16e984fd0>"
      ]
     },
     "execution_count": null,
     "metadata": {},
     "output_type": "execute_result"
    },
    {
     "data": {
      "image/png": "[encoded data removed]",
      "text/plain": [
       "<Figure size 360x360 with 1 Axes>"
      ]
     },
     "metadata": {
      "needs_background": "light"
     },
     "output_type": "display_data"
    }
   ],
   "source": [
    "sns.displot(veh_sales['sales'])"
   ]
  },
  {
   "cell_type": "code",
   "execution_count": null,
   "id": "12019236-a4f0-462f-9f2e-e15aefcca4cc",
   "metadata": {},
   "outputs": [
    {
     "data": {
      "text/plain": [
       "<seaborn.axisgrid.FacetGrid at 0x16ea1e9d0>"
      ]
     },
     "execution_count": null,
     "metadata": {},
     "output_type": "execute_result"
    },
    {
     "data": {
      "image/png": "[encoded data removed]",
      "text/plain": [
       "<Figure size 360x360 with 1 Axes>"
      ]
     },
     "metadata": {
      "needs_background": "light"
     },
     "output_type": "display_data"
    }
   ],
   "source": [
    "sns.displot(np.log(veh_sales[veh_sales['sales']>1]['sales']))"
   ]
  },
  {
   "cell_type": "code",
   "execution_count": null,
   "id": "b058e7fe-802d-4957-b1d6-a7b902d40a61",
   "metadata": {},
   "outputs": [
    {
     "data": {
      "text/plain": [
       "<seaborn.axisgrid.FacetGrid at 0x1701cfdc0>"
      ]
     },
     "execution_count": null,
     "metadata": {},
     "output_type": "execute_result"
    },
    {
     "data": {
      "image/png": "[encoded data removed]",
      "text/plain": [
       "<Figure size 360x360 with 1 Axes>"
      ]
     },
     "metadata": {
      "needs_background": "light"
     },
     "output_type": "display_data"
    }
   ],
   "source": [
    "sns.displot(veh_sales[veh_sales['sales_per_vehicle']>0]['sales_per_vehicle'])"
   ]
  },
  {
   "cell_type": "code",
   "execution_count": null,
   "id": "0aee0642-0549-41c7-b539-66b1a73111d6",
   "metadata": {},
   "outputs": [
    {
     "name": "stderr",
     "output_type": "stream",
     "text": [
      "/Users/hayashishio/opt/anaconda3/envs/teams1_env/lib/python3.9/site-packages/seaborn/_decorators.py:36: FutureWarning: Pass the following variables as keyword args: x, y. From version 0.12, the only valid positional argument will be `data`, and passing other arguments without an explicit keyword will result in an error or misinterpretation.\n",
      "  warnings.warn(\n"
     ]
    },
    {
     "data": {
      "text/plain": [
       "<seaborn.axisgrid.JointGrid at 0x172b52160>"
      ]
     },
     "execution_count": null,
     "metadata": {},
     "output_type": "execute_result"
    },
    {
     "data": {
      "image/png": "[encoded data removed]",
      "text/plain": [
       "<Figure size 432x432 with 3 Axes>"
      ]
     },
     "metadata": {
      "needs_background": "light"
     },
     "output_type": "display_data"
    }
   ],
   "source": [
    "sns.jointplot(veh_sales['vehicle_id'],veh_sales['sales'])"
   ]
  },
  {
   "cell_type": "code",
   "execution_count": null,
   "id": "1f64ef3a-a0b8-496b-8cf1-cba1913eec45",
   "metadata": {},
   "outputs": [
    {
     "name": "stderr",
     "output_type": "stream",
     "text": [
      "/Users/hayashishio/opt/anaconda3/envs/teams1_env/lib/python3.9/site-packages/seaborn/_decorators.py:36: FutureWarning: Pass the following variables as keyword args: x, y. From version 0.12, the only valid positional argument will be `data`, and passing other arguments without an explicit keyword will result in an error or misinterpretation.\n",
      "  warnings.warn(\n"
     ]
    },
    {
     "data": {
      "text/plain": [
       "<seaborn.axisgrid.JointGrid at 0x1749df520>"
      ]
     },
     "execution_count": null,
     "metadata": {},
     "output_type": "execute_result"
    },
    {
     "data": {
      "image/png": "[encoded data removed]",
      "text/plain": [
       "<Figure size 432x432 with 3 Axes>"
      ]
     },
     "metadata": {
      "needs_background": "light"
     },
     "output_type": "display_data"
    }
   ],
   "source": [
    "sns.jointplot(veh_sales['vehicle_id'],veh_sales['sales_per_vehicle'])"
   ]
  },
  {
   "cell_type": "markdown",
   "id": "3c561fba-bfcd-4ca5-bf9c-45b0301523ba",
   "metadata": {},
   "source": [
    "Individual sales not related to the number of vehicles owned."
   ]
  },
  {
   "cell_type": "code",
   "execution_count": null,
   "id": "55505fa2-0a2d-4748-a534-bb2d96bfaaab",
   "metadata": {},
   "outputs": [],
   "source": [
    "mega_table['date'] = pd.to_datetime(mega_table['date'])"
   ]
  },
  {
   "cell_type": "code",
   "execution_count": null,
   "id": "0431316c-e45e-432f-8f24-dbc0fb27383f",
   "metadata": {},
   "outputs": [],
   "source": [
    "ind_first = mega_table.groupby('indiv_id').agg({'date':['min','max'], 'sales':'sum'})"
   ]
  },
  {
   "cell_type": "code",
   "execution_count": null,
   "id": "eb87b592-5a23-4972-b822-5411f1e49394",
   "metadata": {},
   "outputs": [],
   "source": [
    "ind_first['years_being_customer'] =(ind_first[('date','max')] - ind_first[('date','min')]).dt.days"
   ]
  },
  {
   "cell_type": "code",
   "execution_count": null,
   "id": "e6b7b7c6-1708-475a-8bff-604d85edbe25",
   "metadata": {},
   "outputs": [
    {
     "data": {
      "text/plain": [
       "MultiIndex([(                'date', 'min'),\n",
       "            (                'date', 'max'),\n",
       "            (               'sales', 'sum'),\n",
       "            ('years_being_customer',    '')],\n",
       "           )"
      ]
     },
     "execution_count": null,
     "metadata": {},
     "output_type": "execute_result"
    }
   ],
   "source": [
    "ind_first.columns"
   ]
  },
  {
   "cell_type": "code",
   "execution_count": null,
   "id": "415d815a-0652-40ff-9cf0-64601ca17f9d",
   "metadata": {},
   "outputs": [
    {
     "data": {
      "text/plain": [
       "<seaborn.axisgrid.JointGrid at 0x17ccff2b0>"
      ]
     },
     "execution_count": null,
     "metadata": {},
     "output_type": "execute_result"
    },
    {
     "data": {
      "image/png": "[encoded data removed]",
      "text/plain": [
       "<Figure size 432x432 with 3 Axes>"
      ]
     },
     "metadata": {
      "needs_background": "light"
     },
     "output_type": "display_data"
    }
   ],
   "source": [
    "sns.jointplot(data=ind_first, x= ('years_being_customer',''), y=('sales','sum'))"
   ]
  },
  {
   "cell_type": "code",
   "execution_count": null,
   "id": "f18c53bf-b97e-4bcc-ab00-b17102af32fc",
   "metadata": {},
   "outputs": [],
   "source": []
  }
 ],
 "metadata": {
  "kernelspec": {
   "display_name": "Python 3 (ipykernel)",
   "language": "python",
   "name": "python3"
  }
 },
 "nbformat": 4,
 "nbformat_minor": 5
}
