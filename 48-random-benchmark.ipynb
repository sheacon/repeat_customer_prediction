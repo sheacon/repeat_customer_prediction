{
 "cells": [
  {
   "cell_type": "markdown",
   "id": "34db0525",
   "metadata": {},
   "source": [
    "# 48-random-benchmark\n",
    "> This notebook uses random selection method to select customer id. And we use this result as the benchmark to determine the effect of our models."
   ]
  },
  {
   "cell_type": "code",
   "execution_count": null,
   "id": "0d63db49",
   "metadata": {},
   "outputs": [],
   "source": [
    "import numpy as np\n",
    "import pandas as pd"
   ]
  },
  {
   "cell_type": "code",
   "execution_count": null,
   "id": "098d49ac",
   "metadata": {},
   "outputs": [],
   "source": [
    "def random_select(num):\n",
    "    Real_X = pd.read_csv(\"/data/p_dsi/teams2022/team_1/fe_data/2015_18_09.csv\")\n",
    "    Real_X = Real_X.fillna(-1)\n",
    "    Real_Y = pd.read_csv(\"/data/p_dsi/teams2022/team_1/new_data/20181031.csv\")\n",
    "    Real_Y_id = Real_Y[Real_Y['prod_group_code']==5]['indiv_id'].unique()\n",
    "    result = []\n",
    "    for i in range(num):\n",
    "        random_data = Real_X['indiv_id'].unique()\n",
    "        random100k_id_new = np.random.choice(random_data, size = 100000, replace = False)\n",
    "        index = len([x for x in random100k_id_new if x in Real_Y_id])/100000\n",
    "        result.append(index)\n",
    "    return result"
   ]
  },
  {
   "cell_type": "code",
   "execution_count": null,
   "id": "1cf1a574",
   "metadata": {},
   "outputs": [],
   "source": [
    "result = random_select(20)"
   ]
  },
  {
   "cell_type": "code",
   "execution_count": null,
   "id": "084e0182",
   "metadata": {},
   "outputs": [
    {
     "data": {
      "text/plain": [
       "0.018536999999999998"
      ]
     },
     "execution_count": null,
     "metadata": {},
     "output_type": "execute_result"
    }
   ],
   "source": [
    "np.mean(result)"
   ]
  },
  {
   "cell_type": "markdown",
   "id": "c53a633f",
   "metadata": {},
   "source": [
    "From the result we can find that the accuracy of random selection (benchmark) is around 0.0185. So the accuracy of our final model is more than five times of the benchmark."
   ]
  },
  {
   "cell_type": "code",
   "execution_count": null,
   "id": "1f685ecb",
   "metadata": {},
   "outputs": [],
   "source": []
  }
 ],
 "metadata": {
  "kernelspec": {
   "display_name": "Python 3 (ipykernel)",
   "language": "python",
   "name": "python3"
  }
 },
 "nbformat": 4,
 "nbformat_minor": 5
}
