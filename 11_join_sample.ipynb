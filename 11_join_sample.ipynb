{
  "cells": [
    {
      "cell_type": "markdown",
      "id": "43aa6ad9",
      "metadata": {
        "id": "43aa6ad9"
      },
      "source": [
        "# 11-join-table\n",
        "> Join the datasets into one mega table."
      ]
    },
    {
      "cell_type": "code",
      "execution_count": null,
      "id": "8daa1c6d",
      "metadata": {
        "id": "8daa1c6d"
      },
      "outputs": [],
      "source": [
        "# import packages\n",
        "import pandas as pd\n",
        "import janitor\n",
        "import numpy as np\n",
        "from sklearn.model_selection import train_test_split\n",
        "# must install janitor package with the following shell command:\n",
        "# 'conda install -c conda-forge pyjanitor'"
      ]
    },
    {
      "cell_type": "code",
      "source": [
        "# mount google drive\n",
        "from google.colab import drive\n",
        "drive.mount('/content/gdrive')\n",
        "     \n",
        "# navigate to directory\n",
        "%cd /content/gdrive/MyDrive/Projects/repeat_customers"
      ],
      "metadata": {
        "id": "4jFK-TBxIY6Q"
      },
      "id": "4jFK-TBxIY6Q",
      "execution_count": null,
      "outputs": []
    },
    {
      "cell_type": "code",
      "execution_count": null,
      "id": "0f4aebfa",
      "metadata": {
        "id": "0f4aebfa"
      },
      "outputs": [],
      "source": [
        "# read data files and clean names\n",
        "individual_sample = pd.read_csv('sample_data/individual_sample.csv', sep = ',', skiprows=[1]).clean_names()\n",
        "product = pd.read_csv('sample_data/product.csv', sep = '|', skiprows=[1]).clean_names()\n",
        "sales_sample = pd.read_csv('sample_data/sales_data_sample.csv', sep = ',', skiprows=[1]).clean_names()\n",
        "store = pd.read_csv('sample_data/store.csv', sep = '|', skiprows=[1]).clean_names()\n",
        "vehicle_sample = pd.read_csv('sample_data/vehicle_sample.csv', sep = ',', skiprows=[1]).clean_names()"
      ]
    },
    {
      "cell_type": "code",
      "execution_count": null,
      "id": "78784c46-54f4-46fa-90c7-3ceeb98fe87a",
      "metadata": {
        "id": "78784c46-54f4-46fa-90c7-3ceeb98fe87a"
      },
      "outputs": [],
      "source": [
        "# convert store zip and id to string\n",
        "store['store_id']= store['store_id'].apply(str)\n",
        "sales_sample['store_id']= sales_sample['store_id'].apply(str)\n",
        "store['zip_code']= store['zip_code'].apply(str)"
      ]
    },
    {
      "cell_type": "code",
      "execution_count": null,
      "id": "7a3db64e",
      "metadata": {
        "id": "7a3db64e"
      },
      "outputs": [],
      "source": [
        "# change the column name of table 'individual'\n",
        "individual_sample = individual_sample.rename(columns = {'mzb_indiv_id':'indiv_id'})"
      ]
    },
    {
      "cell_type": "code",
      "execution_count": null,
      "id": "f84c4416",
      "metadata": {
        "id": "f84c4416"
      },
      "outputs": [],
      "source": [
        "mega_table = sales_sample.merge(product, on = 'article_id', how = 'left')\n",
        "mega_table = mega_table.merge(store, on = 'store_id', how = 'left')\n",
        "mega_table = mega_table.merge(individual_sample, on = 'indiv_id', how = 'left')\n",
        "mega_table = mega_table.merge(vehicle_sample, on = 'vehicle_id', how = 'left')"
      ]
    },
    {
      "cell_type": "code",
      "execution_count": null,
      "id": "1dcbfdb0",
      "metadata": {
        "id": "1dcbfdb0",
        "outputId": "fc7938d2-df6c-4046-988e-ffcf6171720a"
      },
      "outputs": [
        {
          "data": {
            "text/plain": [
              "(4000504, 33)"
            ]
          },
          "execution_count": null,
          "metadata": {},
          "output_type": "execute_result"
        }
      ],
      "source": [
        "# check the dimensions of the mega table\n",
        "mega_table.shape"
      ]
    },
    {
      "cell_type": "code",
      "execution_count": null,
      "id": "c76a5e6c",
      "metadata": {
        "id": "c76a5e6c",
        "outputId": "a314eaab-5ae9-42a5-b3d4-ed0447866e0c"
      },
      "outputs": [
        {
          "data": {
            "text/plain": [
              "(4000504, 9)"
            ]
          },
          "execution_count": null,
          "metadata": {},
          "output_type": "execute_result"
        }
      ],
      "source": [
        "sales_sample.shape"
      ]
    },
    {
      "cell_type": "markdown",
      "id": "4cde9cfa",
      "metadata": {
        "id": "4cde9cfa"
      },
      "source": [
        "The mega table has the same row number as the 'sales_sample' table."
      ]
    },
    {
      "cell_type": "code",
      "execution_count": null,
      "id": "7cd0d855",
      "metadata": {
        "id": "7cd0d855",
        "outputId": "73332727-301b-47bd-e47f-3b27ce98efe8"
      },
      "outputs": [
        {
          "data": {
            "text/plain": [
              "True"
            ]
          },
          "execution_count": null,
          "metadata": {},
          "output_type": "execute_result"
        }
      ],
      "source": [
        "int(mega_table.shape[1]) == \\\n",
        "int(individual_sample.shape[1]) \\\n",
        "+ int(product.shape[1]) \\\n",
        "+ int(sales_sample.shape[1]) \\\n",
        "+ int(store.shape[1]) \\\n",
        "+ int(vehicle_sample.shape[1]) - 4\n"
      ]
    },
    {
      "cell_type": "markdown",
      "id": "3b40cecc",
      "metadata": {
        "id": "3b40cecc"
      },
      "source": [
        "The mega table has the correct column number."
      ]
    },
    {
      "cell_type": "code",
      "execution_count": null,
      "id": "a391adf5",
      "metadata": {
        "id": "a391adf5",
        "outputId": "52bf1cbc-bf37-4b08-c90d-07eb3a283cdb"
      },
      "outputs": [
        {
          "data": {
            "text/html": [
              "<div>\n",
              "<style scoped>\n",
              "    .dataframe tbody tr th:only-of-type {\n",
              "        vertical-align: middle;\n",
              "    }\n",
              "\n",
              "    .dataframe tbody tr th {\n",
              "        vertical-align: top;\n",
              "    }\n",
              "\n",
              "    .dataframe thead th {\n",
              "        text-align: right;\n",
              "    }\n",
              "</style>\n",
              "<table border=\"1\" class=\"dataframe\">\n",
              "  <thead>\n",
              "    <tr style=\"text-align: right;\">\n",
              "      <th></th>\n",
              "      <th>unnamed_0_x</th>\n",
              "      <th>store_id</th>\n",
              "      <th>tran_id</th>\n",
              "      <th>date</th>\n",
              "      <th>article_id</th>\n",
              "      <th>indiv_id</th>\n",
              "      <th>vehicle_id</th>\n",
              "      <th>units</th>\n",
              "      <th>sales</th>\n",
              "      <th>prod_group_code</th>\n",
              "      <th>...</th>\n",
              "      <th>msa</th>\n",
              "      <th>unnamed_0_y</th>\n",
              "      <th>email_optin_ind</th>\n",
              "      <th>ah1_res_bus_indc</th>\n",
              "      <th>supp1_bus_pander</th>\n",
              "      <th>unnamed_0</th>\n",
              "      <th>make</th>\n",
              "      <th>model</th>\n",
              "      <th>sub_model</th>\n",
              "      <th>model_year</th>\n",
              "    </tr>\n",
              "  </thead>\n",
              "  <tbody>\n",
              "    <tr>\n",
              "      <th>0</th>\n",
              "      <td>1</td>\n",
              "      <td>337934</td>\n",
              "      <td>990994590</td>\n",
              "      <td>2018-07-23</td>\n",
              "      <td>7001647</td>\n",
              "      <td>318422234.0</td>\n",
              "      <td>944814728</td>\n",
              "      <td>0.0</td>\n",
              "      <td>-8.55</td>\n",
              "      <td>4.0</td>\n",
              "      <td>...</td>\n",
              "      <td>HAGERSTOWN</td>\n",
              "      <td>11239886</td>\n",
              "      <td>Y</td>\n",
              "      <td>R</td>\n",
              "      <td>N</td>\n",
              "      <td>NaN</td>\n",
              "      <td>NaN</td>\n",
              "      <td>NaN</td>\n",
              "      <td>NaN</td>\n",
              "      <td>NaN</td>\n",
              "    </tr>\n",
              "    <tr>\n",
              "      <th>1</th>\n",
              "      <td>2</td>\n",
              "      <td>337934</td>\n",
              "      <td>990994590</td>\n",
              "      <td>2018-07-23</td>\n",
              "      <td>7001715</td>\n",
              "      <td>318422234.0</td>\n",
              "      <td>944814728</td>\n",
              "      <td>0.0</td>\n",
              "      <td>-50.45</td>\n",
              "      <td>4.0</td>\n",
              "      <td>...</td>\n",
              "      <td>HAGERSTOWN</td>\n",
              "      <td>11239886</td>\n",
              "      <td>Y</td>\n",
              "      <td>R</td>\n",
              "      <td>N</td>\n",
              "      <td>NaN</td>\n",
              "      <td>NaN</td>\n",
              "      <td>NaN</td>\n",
              "      <td>NaN</td>\n",
              "      <td>NaN</td>\n",
              "    </tr>\n",
              "    <tr>\n",
              "      <th>2</th>\n",
              "      <td>3</td>\n",
              "      <td>337934</td>\n",
              "      <td>990994590</td>\n",
              "      <td>2018-07-23</td>\n",
              "      <td>7096547</td>\n",
              "      <td>318422234.0</td>\n",
              "      <td>944814728</td>\n",
              "      <td>0.0</td>\n",
              "      <td>10.00</td>\n",
              "      <td>4.0</td>\n",
              "      <td>...</td>\n",
              "      <td>HAGERSTOWN</td>\n",
              "      <td>11239886</td>\n",
              "      <td>Y</td>\n",
              "      <td>R</td>\n",
              "      <td>N</td>\n",
              "      <td>NaN</td>\n",
              "      <td>NaN</td>\n",
              "      <td>NaN</td>\n",
              "      <td>NaN</td>\n",
              "      <td>NaN</td>\n",
              "    </tr>\n",
              "    <tr>\n",
              "      <th>3</th>\n",
              "      <td>4</td>\n",
              "      <td>337934</td>\n",
              "      <td>990994590</td>\n",
              "      <td>2018-07-23</td>\n",
              "      <td>7001647</td>\n",
              "      <td>318422234.0</td>\n",
              "      <td>944814728</td>\n",
              "      <td>0.0</td>\n",
              "      <td>0.00</td>\n",
              "      <td>4.0</td>\n",
              "      <td>...</td>\n",
              "      <td>HAGERSTOWN</td>\n",
              "      <td>11239886</td>\n",
              "      <td>Y</td>\n",
              "      <td>R</td>\n",
              "      <td>N</td>\n",
              "      <td>NaN</td>\n",
              "      <td>NaN</td>\n",
              "      <td>NaN</td>\n",
              "      <td>NaN</td>\n",
              "      <td>NaN</td>\n",
              "    </tr>\n",
              "    <tr>\n",
              "      <th>4</th>\n",
              "      <td>5</td>\n",
              "      <td>337934</td>\n",
              "      <td>990994590</td>\n",
              "      <td>2018-07-23</td>\n",
              "      <td>7001715</td>\n",
              "      <td>318422234.0</td>\n",
              "      <td>944814728</td>\n",
              "      <td>0.0</td>\n",
              "      <td>0.00</td>\n",
              "      <td>4.0</td>\n",
              "      <td>...</td>\n",
              "      <td>HAGERSTOWN</td>\n",
              "      <td>11239886</td>\n",
              "      <td>Y</td>\n",
              "      <td>R</td>\n",
              "      <td>N</td>\n",
              "      <td>NaN</td>\n",
              "      <td>NaN</td>\n",
              "      <td>NaN</td>\n",
              "      <td>NaN</td>\n",
              "      <td>NaN</td>\n",
              "    </tr>\n",
              "  </tbody>\n",
              "</table>\n",
              "<p>5 rows × 33 columns</p>\n",
              "</div>"
            ],
            "text/plain": [
              "   unnamed_0_x store_id    tran_id        date  article_id     indiv_id  \\\n",
              "0            1   337934  990994590  2018-07-23     7001647  318422234.0   \n",
              "1            2   337934  990994590  2018-07-23     7001715  318422234.0   \n",
              "2            3   337934  990994590  2018-07-23     7096547  318422234.0   \n",
              "3            4   337934  990994590  2018-07-23     7001647  318422234.0   \n",
              "4            5   337934  990994590  2018-07-23     7001715  318422234.0   \n",
              "\n",
              "   vehicle_id  units  sales  prod_group_code  ...         msa  unnamed_0_y  \\\n",
              "0   944814728    0.0  -8.55              4.0  ...  HAGERSTOWN     11239886   \n",
              "1   944814728    0.0 -50.45              4.0  ...  HAGERSTOWN     11239886   \n",
              "2   944814728    0.0  10.00              4.0  ...  HAGERSTOWN     11239886   \n",
              "3   944814728    0.0   0.00              4.0  ...  HAGERSTOWN     11239886   \n",
              "4   944814728    0.0   0.00              4.0  ...  HAGERSTOWN     11239886   \n",
              "\n",
              "  email_optin_ind  ah1_res_bus_indc supp1_bus_pander  unnamed_0 make model  \\\n",
              "0               Y                 R                N        NaN  NaN   NaN   \n",
              "1               Y                 R                N        NaN  NaN   NaN   \n",
              "2               Y                 R                N        NaN  NaN   NaN   \n",
              "3               Y                 R                N        NaN  NaN   NaN   \n",
              "4               Y                 R                N        NaN  NaN   NaN   \n",
              "\n",
              "  sub_model model_year  \n",
              "0       NaN        NaN  \n",
              "1       NaN        NaN  \n",
              "2       NaN        NaN  \n",
              "3       NaN        NaN  \n",
              "4       NaN        NaN  \n",
              "\n",
              "[5 rows x 33 columns]"
            ]
          },
          "execution_count": null,
          "metadata": {},
          "output_type": "execute_result"
        }
      ],
      "source": [
        "mega_table.head()"
      ]
    },
    {
      "cell_type": "code",
      "execution_count": null,
      "id": "9a682de3",
      "metadata": {
        "id": "9a682de3"
      },
      "outputs": [],
      "source": []
    }
  ],
  "metadata": {
    "kernelspec": {
      "display_name": "Python 3 (ipykernel)",
      "language": "python",
      "name": "python3"
    },
    "colab": {
      "provenance": []
    }
  },
  "nbformat": 4,
  "nbformat_minor": 5
}