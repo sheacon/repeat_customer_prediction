{
 "cells": [
  {
   "cell_type": "code",
   "execution_count": null,
   "id": "c3afbc6e-ede7-4440-a77a-bb0d616ff4d7",
   "metadata": {},
   "outputs": [],
   "source": [
    "#default_exp DataLoading"
   ]
  },
  {
   "cell_type": "markdown",
   "id": "01eb220e-9d73-4a77-ac77-5055f76df418",
   "metadata": {},
   "source": [
    "# 10_load_data\n",
    "> Loading the sample data"
   ]
  },
  {
   "cell_type": "code",
   "execution_count": null,
   "id": "d14e4029-1e1a-4d79-8756-17d9b06a2339",
   "metadata": {},
   "outputs": [],
   "source": [
    "# import packages\n",
    "import pandas as pd\n",
    "import janitor\n",
    "import numpy as np\n",
    "from sklearn.model_selection import train_test_split\n",
    "# must install janitor package with the following shell command:\n",
    "# 'conda install -c conda-forge pyjanitor'"
   ]
  },
  {
   "cell_type": "code",
   "execution_count": null,
   "id": "8bf69f83-e4eb-4f33-a53b-a0ac671c645a",
   "metadata": {},
   "outputs": [],
   "source": [
    "# read data files and clean names\n",
    "individual_sample = pd.read_csv('sample_data/individual_sample.csv', sep = ',', skiprows=[1]).clean_names()\n",
    "product = pd.read_csv('sample_data/product.csv', sep = '|', skiprows=[1]).clean_names()\n",
    "sales_sample = pd.read_csv('sample_data/sales_data_sample.csv', sep = ',', skiprows=[1]).clean_names()\n",
    "store = pd.read_csv('sample_data/store.csv', sep = '|', skiprows=[1]).clean_names()\n",
    "vehicle_sample = pd.read_csv('sample_data/vehicle_sample.csv', sep = ',', skiprows=[1]).clean_names()"
   ]
  },
  {
   "cell_type": "code",
   "execution_count": null,
   "id": "f3b4801f-3298-4d8b-bffc-599d0a601c1b",
   "metadata": {},
   "outputs": [
    {
     "data": {
      "text/plain": [
       "(99999, 5)"
      ]
     },
     "execution_count": null,
     "metadata": {},
     "output_type": "execute_result"
    }
   ],
   "source": [
    "individual_sample.shape"
   ]
  },
  {
   "cell_type": "code",
   "execution_count": null,
   "id": "4b6579da-42a4-49dc-a25f-bc71fa20f8bb",
   "metadata": {},
   "outputs": [
    {
     "data": {
      "text/html": [
       "<div>\n",
       "<style scoped>\n",
       "    .dataframe tbody tr th:only-of-type {\n",
       "        vertical-align: middle;\n",
       "    }\n",
       "\n",
       "    .dataframe tbody tr th {\n",
       "        vertical-align: top;\n",
       "    }\n",
       "\n",
       "    .dataframe thead th {\n",
       "        text-align: right;\n",
       "    }\n",
       "</style>\n",
       "<table border=\"1\" class=\"dataframe\">\n",
       "  <thead>\n",
       "    <tr style=\"text-align: right;\">\n",
       "      <th></th>\n",
       "      <th>unnamed_0</th>\n",
       "      <th>mzb_indiv_id</th>\n",
       "      <th>email_optin_ind</th>\n",
       "      <th>ah1_res_bus_indc</th>\n",
       "      <th>supp1_bus_pander</th>\n",
       "    </tr>\n",
       "  </thead>\n",
       "  <tbody>\n",
       "    <tr>\n",
       "      <th>0</th>\n",
       "      <td>2302009</td>\n",
       "      <td>263098627</td>\n",
       "      <td>Y</td>\n",
       "      <td>R</td>\n",
       "      <td>N</td>\n",
       "    </tr>\n",
       "    <tr>\n",
       "      <th>1</th>\n",
       "      <td>12836285</td>\n",
       "      <td>369527724</td>\n",
       "      <td>Y</td>\n",
       "      <td>R</td>\n",
       "      <td>N</td>\n",
       "    </tr>\n",
       "    <tr>\n",
       "      <th>2</th>\n",
       "      <td>16337753</td>\n",
       "      <td>552976498</td>\n",
       "      <td>Y</td>\n",
       "      <td>R</td>\n",
       "      <td>N</td>\n",
       "    </tr>\n",
       "    <tr>\n",
       "      <th>3</th>\n",
       "      <td>14239232</td>\n",
       "      <td>464651569</td>\n",
       "      <td>Y</td>\n",
       "      <td>R</td>\n",
       "      <td>N</td>\n",
       "    </tr>\n",
       "    <tr>\n",
       "      <th>4</th>\n",
       "      <td>3117446</td>\n",
       "      <td>267341408</td>\n",
       "      <td>Y</td>\n",
       "      <td>R</td>\n",
       "      <td>N</td>\n",
       "    </tr>\n",
       "  </tbody>\n",
       "</table>\n",
       "</div>"
      ],
      "text/plain": [
       "   unnamed_0  mzb_indiv_id email_optin_ind ah1_res_bus_indc supp1_bus_pander\n",
       "0    2302009     263098627               Y                R                N\n",
       "1   12836285     369527724               Y                R                N\n",
       "2   16337753     552976498               Y                R                N\n",
       "3   14239232     464651569               Y                R                N\n",
       "4    3117446     267341408               Y                R                N"
      ]
     },
     "execution_count": null,
     "metadata": {},
     "output_type": "execute_result"
    }
   ],
   "source": [
    "individual_sample.head()"
   ]
  },
  {
   "cell_type": "code",
   "execution_count": null,
   "id": "94961e60-e664-482d-afa6-9a21540f9660",
   "metadata": {},
   "outputs": [
    {
     "data": {
      "text/plain": [
       "(56841, 13)"
      ]
     },
     "execution_count": null,
     "metadata": {},
     "output_type": "execute_result"
    }
   ],
   "source": [
    "product.shape"
   ]
  },
  {
   "cell_type": "code",
   "execution_count": null,
   "id": "9ec02f79-abca-4f59-a6d9-f3d6c2f7cd46",
   "metadata": {},
   "outputs": [
    {
     "data": {
      "text/html": [
       "<div>\n",
       "<style scoped>\n",
       "    .dataframe tbody tr th:only-of-type {\n",
       "        vertical-align: middle;\n",
       "    }\n",
       "\n",
       "    .dataframe tbody tr th {\n",
       "        vertical-align: top;\n",
       "    }\n",
       "\n",
       "    .dataframe thead th {\n",
       "        text-align: right;\n",
       "    }\n",
       "</style>\n",
       "<table border=\"1\" class=\"dataframe\">\n",
       "  <thead>\n",
       "    <tr style=\"text-align: right;\">\n",
       "      <th></th>\n",
       "      <th>article_id</th>\n",
       "      <th>prod_group_code</th>\n",
       "      <th>prod_group_desc</th>\n",
       "      <th>category_code</th>\n",
       "      <th>category_desc</th>\n",
       "      <th>segment_code</th>\n",
       "      <th>segment_desc</th>\n",
       "      <th>class_code</th>\n",
       "      <th>class_desc</th>\n",
       "      <th>discount_flag</th>\n",
       "      <th>cross_section</th>\n",
       "      <th>aspect_ratio</th>\n",
       "      <th>rim_size</th>\n",
       "    </tr>\n",
       "  </thead>\n",
       "  <tbody>\n",
       "    <tr>\n",
       "      <th>0</th>\n",
       "      <td>20257</td>\n",
       "      <td>5.0</td>\n",
       "      <td>Tires</td>\n",
       "      <td>26.0</td>\n",
       "      <td>Passenger Tires</td>\n",
       "      <td>29.0</td>\n",
       "      <td>Performance Tires</td>\n",
       "      <td>37.0</td>\n",
       "      <td>S/T Performance Tires</td>\n",
       "      <td>N</td>\n",
       "      <td>225</td>\n",
       "      <td>60</td>\n",
       "      <td>16</td>\n",
       "    </tr>\n",
       "    <tr>\n",
       "      <th>1</th>\n",
       "      <td>53872</td>\n",
       "      <td>5.0</td>\n",
       "      <td>Tires</td>\n",
       "      <td>26.0</td>\n",
       "      <td>Passenger Tires</td>\n",
       "      <td>29.0</td>\n",
       "      <td>Performance Tires</td>\n",
       "      <td>37.0</td>\n",
       "      <td>S/T Performance Tires</td>\n",
       "      <td>N</td>\n",
       "      <td>215</td>\n",
       "      <td>60</td>\n",
       "      <td>14</td>\n",
       "    </tr>\n",
       "    <tr>\n",
       "      <th>2</th>\n",
       "      <td>20192</td>\n",
       "      <td>5.0</td>\n",
       "      <td>Tires</td>\n",
       "      <td>26.0</td>\n",
       "      <td>Passenger Tires</td>\n",
       "      <td>29.0</td>\n",
       "      <td>Performance Tires</td>\n",
       "      <td>37.0</td>\n",
       "      <td>S/T Performance Tires</td>\n",
       "      <td>N</td>\n",
       "      <td>195</td>\n",
       "      <td>65</td>\n",
       "      <td>15</td>\n",
       "    </tr>\n",
       "    <tr>\n",
       "      <th>3</th>\n",
       "      <td>45500</td>\n",
       "      <td>5.0</td>\n",
       "      <td>Tires</td>\n",
       "      <td>26.0</td>\n",
       "      <td>Passenger Tires</td>\n",
       "      <td>29.0</td>\n",
       "      <td>Performance Tires</td>\n",
       "      <td>37.0</td>\n",
       "      <td>S/T Performance Tires</td>\n",
       "      <td>N</td>\n",
       "      <td>175</td>\n",
       "      <td>70</td>\n",
       "      <td>13</td>\n",
       "    </tr>\n",
       "    <tr>\n",
       "      <th>4</th>\n",
       "      <td>20001</td>\n",
       "      <td>5.0</td>\n",
       "      <td>Tires</td>\n",
       "      <td>26.0</td>\n",
       "      <td>Passenger Tires</td>\n",
       "      <td>29.0</td>\n",
       "      <td>Performance Tires</td>\n",
       "      <td>37.0</td>\n",
       "      <td>S/T Performance Tires</td>\n",
       "      <td>N</td>\n",
       "      <td>205</td>\n",
       "      <td>70</td>\n",
       "      <td>14</td>\n",
       "    </tr>\n",
       "  </tbody>\n",
       "</table>\n",
       "</div>"
      ],
      "text/plain": [
       "   article_id  prod_group_code prod_group_desc  category_code  \\\n",
       "0       20257              5.0           Tires           26.0   \n",
       "1       53872              5.0           Tires           26.0   \n",
       "2       20192              5.0           Tires           26.0   \n",
       "3       45500              5.0           Tires           26.0   \n",
       "4       20001              5.0           Tires           26.0   \n",
       "\n",
       "     category_desc  segment_code       segment_desc  class_code  \\\n",
       "0  Passenger Tires          29.0  Performance Tires        37.0   \n",
       "1  Passenger Tires          29.0  Performance Tires        37.0   \n",
       "2  Passenger Tires          29.0  Performance Tires        37.0   \n",
       "3  Passenger Tires          29.0  Performance Tires        37.0   \n",
       "4  Passenger Tires          29.0  Performance Tires        37.0   \n",
       "\n",
       "              class_desc discount_flag cross_section aspect_ratio rim_size  \n",
       "0  S/T Performance Tires             N           225           60       16  \n",
       "1  S/T Performance Tires             N           215           60       14  \n",
       "2  S/T Performance Tires             N           195           65       15  \n",
       "3  S/T Performance Tires             N           175           70       13  \n",
       "4  S/T Performance Tires             N           205           70       14  "
      ]
     },
     "execution_count": null,
     "metadata": {},
     "output_type": "execute_result"
    }
   ],
   "source": [
    "product.head()"
   ]
  },
  {
   "cell_type": "code",
   "execution_count": null,
   "id": "f14ebf85-91ad-4a6e-b095-a572346c3f20",
   "metadata": {},
   "outputs": [
    {
     "data": {
      "text/plain": [
       "(4000504, 9)"
      ]
     },
     "execution_count": null,
     "metadata": {},
     "output_type": "execute_result"
    }
   ],
   "source": [
    "sales_sample.shape"
   ]
  },
  {
   "cell_type": "code",
   "execution_count": null,
   "id": "72e32d7e-3e0f-4f99-8b0c-a28d7a009a9f",
   "metadata": {},
   "outputs": [
    {
     "data": {
      "text/html": [
       "<div>\n",
       "<style scoped>\n",
       "    .dataframe tbody tr th:only-of-type {\n",
       "        vertical-align: middle;\n",
       "    }\n",
       "\n",
       "    .dataframe tbody tr th {\n",
       "        vertical-align: top;\n",
       "    }\n",
       "\n",
       "    .dataframe thead th {\n",
       "        text-align: right;\n",
       "    }\n",
       "</style>\n",
       "<table border=\"1\" class=\"dataframe\">\n",
       "  <thead>\n",
       "    <tr style=\"text-align: right;\">\n",
       "      <th></th>\n",
       "      <th>unnamed_0</th>\n",
       "      <th>store_id</th>\n",
       "      <th>tran_id</th>\n",
       "      <th>date</th>\n",
       "      <th>article_id</th>\n",
       "      <th>indiv_id</th>\n",
       "      <th>vehicle_id</th>\n",
       "      <th>units</th>\n",
       "      <th>sales</th>\n",
       "    </tr>\n",
       "  </thead>\n",
       "  <tbody>\n",
       "    <tr>\n",
       "      <th>0</th>\n",
       "      <td>1</td>\n",
       "      <td>337934</td>\n",
       "      <td>990994590</td>\n",
       "      <td>2018-07-23</td>\n",
       "      <td>7001647</td>\n",
       "      <td>318422234.0</td>\n",
       "      <td>944814728</td>\n",
       "      <td>0.0</td>\n",
       "      <td>-8.55</td>\n",
       "    </tr>\n",
       "    <tr>\n",
       "      <th>1</th>\n",
       "      <td>2</td>\n",
       "      <td>337934</td>\n",
       "      <td>990994590</td>\n",
       "      <td>2018-07-23</td>\n",
       "      <td>7001715</td>\n",
       "      <td>318422234.0</td>\n",
       "      <td>944814728</td>\n",
       "      <td>0.0</td>\n",
       "      <td>-50.45</td>\n",
       "    </tr>\n",
       "    <tr>\n",
       "      <th>2</th>\n",
       "      <td>3</td>\n",
       "      <td>337934</td>\n",
       "      <td>990994590</td>\n",
       "      <td>2018-07-23</td>\n",
       "      <td>7096547</td>\n",
       "      <td>318422234.0</td>\n",
       "      <td>944814728</td>\n",
       "      <td>0.0</td>\n",
       "      <td>10.00</td>\n",
       "    </tr>\n",
       "    <tr>\n",
       "      <th>3</th>\n",
       "      <td>4</td>\n",
       "      <td>337934</td>\n",
       "      <td>990994590</td>\n",
       "      <td>2018-07-23</td>\n",
       "      <td>7001647</td>\n",
       "      <td>318422234.0</td>\n",
       "      <td>944814728</td>\n",
       "      <td>0.0</td>\n",
       "      <td>0.00</td>\n",
       "    </tr>\n",
       "    <tr>\n",
       "      <th>4</th>\n",
       "      <td>5</td>\n",
       "      <td>337934</td>\n",
       "      <td>990994590</td>\n",
       "      <td>2018-07-23</td>\n",
       "      <td>7001715</td>\n",
       "      <td>318422234.0</td>\n",
       "      <td>944814728</td>\n",
       "      <td>0.0</td>\n",
       "      <td>0.00</td>\n",
       "    </tr>\n",
       "  </tbody>\n",
       "</table>\n",
       "</div>"
      ],
      "text/plain": [
       "   unnamed_0  store_id    tran_id        date  article_id     indiv_id  \\\n",
       "0          1    337934  990994590  2018-07-23     7001647  318422234.0   \n",
       "1          2    337934  990994590  2018-07-23     7001715  318422234.0   \n",
       "2          3    337934  990994590  2018-07-23     7096547  318422234.0   \n",
       "3          4    337934  990994590  2018-07-23     7001647  318422234.0   \n",
       "4          5    337934  990994590  2018-07-23     7001715  318422234.0   \n",
       "\n",
       "   vehicle_id  units  sales  \n",
       "0   944814728    0.0  -8.55  \n",
       "1   944814728    0.0 -50.45  \n",
       "2   944814728    0.0  10.00  \n",
       "3   944814728    0.0   0.00  \n",
       "4   944814728    0.0   0.00  "
      ]
     },
     "execution_count": null,
     "metadata": {},
     "output_type": "execute_result"
    }
   ],
   "source": [
    "sales_sample.head()"
   ]
  },
  {
   "cell_type": "code",
   "execution_count": null,
   "id": "443f01ae-87df-4d93-b3ae-76696c20e78f",
   "metadata": {},
   "outputs": [
    {
     "data": {
      "text/plain": [
       "(2813, 4)"
      ]
     },
     "execution_count": null,
     "metadata": {},
     "output_type": "execute_result"
    }
   ],
   "source": [
    "store.shape"
   ]
  },
  {
   "cell_type": "code",
   "execution_count": null,
   "id": "776a41db-b94c-4e1e-8f2d-e2cc1d7f0379",
   "metadata": {},
   "outputs": [
    {
     "data": {
      "text/html": [
       "<div>\n",
       "<style scoped>\n",
       "    .dataframe tbody tr th:only-of-type {\n",
       "        vertical-align: middle;\n",
       "    }\n",
       "\n",
       "    .dataframe tbody tr th {\n",
       "        vertical-align: top;\n",
       "    }\n",
       "\n",
       "    .dataframe thead th {\n",
       "        text-align: right;\n",
       "    }\n",
       "</style>\n",
       "<table border=\"1\" class=\"dataframe\">\n",
       "  <thead>\n",
       "    <tr style=\"text-align: right;\">\n",
       "      <th></th>\n",
       "      <th>store_id</th>\n",
       "      <th>state_code</th>\n",
       "      <th>zip_code</th>\n",
       "      <th>msa</th>\n",
       "    </tr>\n",
       "  </thead>\n",
       "  <tbody>\n",
       "    <tr>\n",
       "      <th>0</th>\n",
       "      <td>244240</td>\n",
       "      <td>NE</td>\n",
       "      <td>68134</td>\n",
       "      <td>NaN</td>\n",
       "    </tr>\n",
       "    <tr>\n",
       "      <th>1</th>\n",
       "      <td>244233</td>\n",
       "      <td>MO</td>\n",
       "      <td>64151</td>\n",
       "      <td>NaN</td>\n",
       "    </tr>\n",
       "    <tr>\n",
       "      <th>2</th>\n",
       "      <td>227602</td>\n",
       "      <td>KY</td>\n",
       "      <td>40272</td>\n",
       "      <td>NaN</td>\n",
       "    </tr>\n",
       "    <tr>\n",
       "      <th>3</th>\n",
       "      <td>227603</td>\n",
       "      <td>KY</td>\n",
       "      <td>40219</td>\n",
       "      <td>NaN</td>\n",
       "    </tr>\n",
       "    <tr>\n",
       "      <th>4</th>\n",
       "      <td>232365</td>\n",
       "      <td>IN</td>\n",
       "      <td>46142</td>\n",
       "      <td>NaN</td>\n",
       "    </tr>\n",
       "  </tbody>\n",
       "</table>\n",
       "</div>"
      ],
      "text/plain": [
       "   store_id state_code  zip_code  msa\n",
       "0    244240         NE     68134  NaN\n",
       "1    244233         MO     64151  NaN\n",
       "2    227602         KY     40272  NaN\n",
       "3    227603         KY     40219  NaN\n",
       "4    232365         IN     46142  NaN"
      ]
     },
     "execution_count": null,
     "metadata": {},
     "output_type": "execute_result"
    }
   ],
   "source": [
    "store.head()"
   ]
  },
  {
   "cell_type": "code",
   "execution_count": null,
   "id": "c57ac497-e16b-4a7d-8c1f-8390945cb0a9",
   "metadata": {},
   "outputs": [
    {
     "data": {
      "text/plain": [
       "(99999, 6)"
      ]
     },
     "execution_count": null,
     "metadata": {},
     "output_type": "execute_result"
    }
   ],
   "source": [
    "vehicle_sample.shape"
   ]
  },
  {
   "cell_type": "code",
   "execution_count": null,
   "id": "75eddca6-8eb0-4c6d-9edc-8c0adaa48528",
   "metadata": {},
   "outputs": [
    {
     "data": {
      "text/html": [
       "<div>\n",
       "<style scoped>\n",
       "    .dataframe tbody tr th:only-of-type {\n",
       "        vertical-align: middle;\n",
       "    }\n",
       "\n",
       "    .dataframe tbody tr th {\n",
       "        vertical-align: top;\n",
       "    }\n",
       "\n",
       "    .dataframe thead th {\n",
       "        text-align: right;\n",
       "    }\n",
       "</style>\n",
       "<table border=\"1\" class=\"dataframe\">\n",
       "  <thead>\n",
       "    <tr style=\"text-align: right;\">\n",
       "      <th></th>\n",
       "      <th>unnamed_0</th>\n",
       "      <th>vehicle_id</th>\n",
       "      <th>make</th>\n",
       "      <th>model</th>\n",
       "      <th>sub_model</th>\n",
       "      <th>model_year</th>\n",
       "    </tr>\n",
       "  </thead>\n",
       "  <tbody>\n",
       "    <tr>\n",
       "      <th>0</th>\n",
       "      <td>4616962</td>\n",
       "      <td>949893706</td>\n",
       "      <td>NISSAN</td>\n",
       "      <td>MURANO SV</td>\n",
       "      <td>SV</td>\n",
       "      <td>2014</td>\n",
       "    </tr>\n",
       "    <tr>\n",
       "      <th>1</th>\n",
       "      <td>12535557</td>\n",
       "      <td>953720646</td>\n",
       "      <td>CHEVROLET</td>\n",
       "      <td>MONTE CARLO LT</td>\n",
       "      <td>LT</td>\n",
       "      <td>2005</td>\n",
       "    </tr>\n",
       "    <tr>\n",
       "      <th>2</th>\n",
       "      <td>8953545</td>\n",
       "      <td>949554501</td>\n",
       "      <td>MERCEDES-BENZ</td>\n",
       "      <td>C300 4MATIC LUXURY</td>\n",
       "      <td>4Matic Luxury</td>\n",
       "      <td>2010</td>\n",
       "    </tr>\n",
       "    <tr>\n",
       "      <th>3</th>\n",
       "      <td>15025103</td>\n",
       "      <td>879337349</td>\n",
       "      <td>DODGE</td>\n",
       "      <td>GRAND CARAVAN SXT</td>\n",
       "      <td>SXT</td>\n",
       "      <td>2005</td>\n",
       "    </tr>\n",
       "    <tr>\n",
       "      <th>4</th>\n",
       "      <td>11657057</td>\n",
       "      <td>946122136</td>\n",
       "      <td>DODGE</td>\n",
       "      <td>DURANGO SLT</td>\n",
       "      <td>SLT 4x4</td>\n",
       "      <td>1999</td>\n",
       "    </tr>\n",
       "  </tbody>\n",
       "</table>\n",
       "</div>"
      ],
      "text/plain": [
       "   unnamed_0  vehicle_id           make               model      sub_model  \\\n",
       "0    4616962   949893706         NISSAN           MURANO SV             SV   \n",
       "1   12535557   953720646      CHEVROLET      MONTE CARLO LT             LT   \n",
       "2    8953545   949554501  MERCEDES-BENZ  C300 4MATIC LUXURY  4Matic Luxury   \n",
       "3   15025103   879337349          DODGE   GRAND CARAVAN SXT            SXT   \n",
       "4   11657057   946122136          DODGE         DURANGO SLT        SLT 4x4   \n",
       "\n",
       "   model_year  \n",
       "0        2014  \n",
       "1        2005  \n",
       "2        2010  \n",
       "3        2005  \n",
       "4        1999  "
      ]
     },
     "execution_count": null,
     "metadata": {},
     "output_type": "execute_result"
    }
   ],
   "source": [
    "vehicle_sample.head()"
   ]
  },
  {
   "cell_type": "code",
   "execution_count": null,
   "id": "cac513b4-e323-4673-8e9b-1544ef603662",
   "metadata": {},
   "outputs": [],
   "source": []
  }
 ],
 "metadata": {
  "kernelspec": {
   "display_name": "Python 3 (ipykernel)",
   "language": "python",
   "name": "python3"
  }
 },
 "nbformat": 4,
 "nbformat_minor": 5
}
