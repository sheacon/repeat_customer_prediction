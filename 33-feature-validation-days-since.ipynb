{
 "cells": [
  {
   "cell_type": "markdown",
   "id": "d680873b-7a2e-4acf-8dd7-28f797abd00c",
   "metadata": {},
   "source": [
    "# Feature Validation - Days Since\n",
    "This notebook is meant to validate features engineering to measure duration\n",
    "\n",
    "Features of interest\n",
    "- `days_since_first_transaction`\n",
    "- `days_since_last_transaction`\n",
    "- `days_since_first_tire_purchase`\n",
    "- `days_since_last_tire_purchase`"
   ]
  },
  {
   "cell_type": "code",
   "execution_count": null,
   "id": "0f3077bf-ff8e-4e03-aca4-ccf5a983c750",
   "metadata": {},
   "outputs": [],
   "source": [
    "# importing needed packages\n",
    "import pandas as pd\n",
    "import numpy as np"
   ]
  },
  {
   "cell_type": "code",
   "execution_count": null,
   "id": "cedb9797-ce99-4774-a64f-cad6c614e2e0",
   "metadata": {},
   "outputs": [],
   "source": [
    "# review full duration dataset\n",
    "df = pd.read_csv('fe_data/2015_18_10.csv')"
   ]
  },
  {
   "cell_type": "code",
   "execution_count": null,
   "id": "e297729e-c7d5-46e8-90dc-7312598c07a3",
   "metadata": {},
   "outputs": [
    {
     "data": {
      "text/html": [
       "<div>\n",
       "<style scoped>\n",
       "    .dataframe tbody tr th:only-of-type {\n",
       "        vertical-align: middle;\n",
       "    }\n",
       "\n",
       "    .dataframe tbody tr th {\n",
       "        vertical-align: top;\n",
       "    }\n",
       "\n",
       "    .dataframe thead th {\n",
       "        text-align: right;\n",
       "    }\n",
       "</style>\n",
       "<table border=\"1\" class=\"dataframe\">\n",
       "  <thead>\n",
       "    <tr style=\"text-align: right;\">\n",
       "      <th></th>\n",
       "      <th>indiv_id</th>\n",
       "      <th>total_transaction</th>\n",
       "      <th>sales_total</th>\n",
       "      <th>tire_purchases</th>\n",
       "      <th>service_purchases</th>\n",
       "      <th>other_purchases</th>\n",
       "      <th>days_since_first_transaction</th>\n",
       "      <th>days_since_last_transaction</th>\n",
       "      <th>days_since_first_tire_purchase</th>\n",
       "      <th>days_since_last_tire_purchase</th>\n",
       "      <th>vehicle_count</th>\n",
       "      <th>model_year_avg</th>\n",
       "      <th>store</th>\n",
       "      <th>tire_purchase_freq</th>\n",
       "    </tr>\n",
       "  </thead>\n",
       "  <tbody>\n",
       "    <tr>\n",
       "      <th>0</th>\n",
       "      <td>251635131.0</td>\n",
       "      <td>8</td>\n",
       "      <td>487.75</td>\n",
       "      <td>1</td>\n",
       "      <td>7</td>\n",
       "      <td>0</td>\n",
       "      <td>1301</td>\n",
       "      <td>198</td>\n",
       "      <td>911.0</td>\n",
       "      <td>911.0</td>\n",
       "      <td>1</td>\n",
       "      <td>NaN</td>\n",
       "      <td>779</td>\n",
       "      <td>0.000769</td>\n",
       "    </tr>\n",
       "    <tr>\n",
       "      <th>1</th>\n",
       "      <td>251636073.0</td>\n",
       "      <td>19</td>\n",
       "      <td>2656.93</td>\n",
       "      <td>4</td>\n",
       "      <td>15</td>\n",
       "      <td>0</td>\n",
       "      <td>1242</td>\n",
       "      <td>3</td>\n",
       "      <td>337.0</td>\n",
       "      <td>337.0</td>\n",
       "      <td>3</td>\n",
       "      <td>NaN</td>\n",
       "      <td>349711</td>\n",
       "      <td>0.003221</td>\n",
       "    </tr>\n",
       "    <tr>\n",
       "      <th>2</th>\n",
       "      <td>251636235.0</td>\n",
       "      <td>1</td>\n",
       "      <td>0.00</td>\n",
       "      <td>0</td>\n",
       "      <td>1</td>\n",
       "      <td>0</td>\n",
       "      <td>1239</td>\n",
       "      <td>1239</td>\n",
       "      <td>-1.0</td>\n",
       "      <td>-1.0</td>\n",
       "      <td>1</td>\n",
       "      <td>NaN</td>\n",
       "      <td>13420</td>\n",
       "      <td>0.000000</td>\n",
       "    </tr>\n",
       "    <tr>\n",
       "      <th>3</th>\n",
       "      <td>251636752.0</td>\n",
       "      <td>11</td>\n",
       "      <td>1678.38</td>\n",
       "      <td>1</td>\n",
       "      <td>10</td>\n",
       "      <td>0</td>\n",
       "      <td>1068</td>\n",
       "      <td>65</td>\n",
       "      <td>1068.0</td>\n",
       "      <td>1068.0</td>\n",
       "      <td>2</td>\n",
       "      <td>NaN</td>\n",
       "      <td>22365</td>\n",
       "      <td>0.000936</td>\n",
       "    </tr>\n",
       "    <tr>\n",
       "      <th>4</th>\n",
       "      <td>251638270.0</td>\n",
       "      <td>11</td>\n",
       "      <td>678.87</td>\n",
       "      <td>3</td>\n",
       "      <td>8</td>\n",
       "      <td>0</td>\n",
       "      <td>1233</td>\n",
       "      <td>895</td>\n",
       "      <td>1119.0</td>\n",
       "      <td>907.0</td>\n",
       "      <td>3</td>\n",
       "      <td>NaN</td>\n",
       "      <td>17140</td>\n",
       "      <td>0.002433</td>\n",
       "    </tr>\n",
       "    <tr>\n",
       "      <th>...</th>\n",
       "      <td>...</td>\n",
       "      <td>...</td>\n",
       "      <td>...</td>\n",
       "      <td>...</td>\n",
       "      <td>...</td>\n",
       "      <td>...</td>\n",
       "      <td>...</td>\n",
       "      <td>...</td>\n",
       "      <td>...</td>\n",
       "      <td>...</td>\n",
       "      <td>...</td>\n",
       "      <td>...</td>\n",
       "      <td>...</td>\n",
       "      <td>...</td>\n",
       "    </tr>\n",
       "    <tr>\n",
       "      <th>82954</th>\n",
       "      <td>654009201.0</td>\n",
       "      <td>6</td>\n",
       "      <td>1252.52</td>\n",
       "      <td>1</td>\n",
       "      <td>5</td>\n",
       "      <td>0</td>\n",
       "      <td>1308</td>\n",
       "      <td>225</td>\n",
       "      <td>225.0</td>\n",
       "      <td>225.0</td>\n",
       "      <td>1</td>\n",
       "      <td>NaN</td>\n",
       "      <td>29815</td>\n",
       "      <td>0.000765</td>\n",
       "    </tr>\n",
       "    <tr>\n",
       "      <th>82955</th>\n",
       "      <td>654197901.0</td>\n",
       "      <td>9</td>\n",
       "      <td>478.84</td>\n",
       "      <td>2</td>\n",
       "      <td>7</td>\n",
       "      <td>0</td>\n",
       "      <td>1298</td>\n",
       "      <td>147</td>\n",
       "      <td>701.0</td>\n",
       "      <td>316.0</td>\n",
       "      <td>1</td>\n",
       "      <td>NaN</td>\n",
       "      <td>20370</td>\n",
       "      <td>0.001541</td>\n",
       "    </tr>\n",
       "    <tr>\n",
       "      <th>82956</th>\n",
       "      <td>654387841.0</td>\n",
       "      <td>3</td>\n",
       "      <td>27.22</td>\n",
       "      <td>1</td>\n",
       "      <td>2</td>\n",
       "      <td>0</td>\n",
       "      <td>1059</td>\n",
       "      <td>760</td>\n",
       "      <td>760.0</td>\n",
       "      <td>760.0</td>\n",
       "      <td>1</td>\n",
       "      <td>NaN</td>\n",
       "      <td>25380</td>\n",
       "      <td>0.000944</td>\n",
       "    </tr>\n",
       "    <tr>\n",
       "      <th>82957</th>\n",
       "      <td>654580123.0</td>\n",
       "      <td>15</td>\n",
       "      <td>1294.46</td>\n",
       "      <td>2</td>\n",
       "      <td>13</td>\n",
       "      <td>0</td>\n",
       "      <td>1238</td>\n",
       "      <td>118</td>\n",
       "      <td>601.0</td>\n",
       "      <td>448.0</td>\n",
       "      <td>2</td>\n",
       "      <td>NaN</td>\n",
       "      <td>17396</td>\n",
       "      <td>0.001616</td>\n",
       "    </tr>\n",
       "    <tr>\n",
       "      <th>82958</th>\n",
       "      <td>654580244.0</td>\n",
       "      <td>19</td>\n",
       "      <td>3436.90</td>\n",
       "      <td>2</td>\n",
       "      <td>16</td>\n",
       "      <td>1</td>\n",
       "      <td>1185</td>\n",
       "      <td>38</td>\n",
       "      <td>1154.0</td>\n",
       "      <td>455.0</td>\n",
       "      <td>3</td>\n",
       "      <td>NaN</td>\n",
       "      <td>22888</td>\n",
       "      <td>0.001688</td>\n",
       "    </tr>\n",
       "  </tbody>\n",
       "</table>\n",
       "<p>82959 rows × 14 columns</p>\n",
       "</div>"
      ],
      "text/plain": [
       "          indiv_id  total_transaction  sales_total  tire_purchases  \\\n",
       "0      251635131.0                  8       487.75               1   \n",
       "1      251636073.0                 19      2656.93               4   \n",
       "2      251636235.0                  1         0.00               0   \n",
       "3      251636752.0                 11      1678.38               1   \n",
       "4      251638270.0                 11       678.87               3   \n",
       "...            ...                ...          ...             ...   \n",
       "82954  654009201.0                  6      1252.52               1   \n",
       "82955  654197901.0                  9       478.84               2   \n",
       "82956  654387841.0                  3        27.22               1   \n",
       "82957  654580123.0                 15      1294.46               2   \n",
       "82958  654580244.0                 19      3436.90               2   \n",
       "\n",
       "       service_purchases  other_purchases  days_since_first_transaction  \\\n",
       "0                      7                0                          1301   \n",
       "1                     15                0                          1242   \n",
       "2                      1                0                          1239   \n",
       "3                     10                0                          1068   \n",
       "4                      8                0                          1233   \n",
       "...                  ...              ...                           ...   \n",
       "82954                  5                0                          1308   \n",
       "82955                  7                0                          1298   \n",
       "82956                  2                0                          1059   \n",
       "82957                 13                0                          1238   \n",
       "82958                 16                1                          1185   \n",
       "\n",
       "       days_since_last_transaction  days_since_first_tire_purchase  \\\n",
       "0                              198                           911.0   \n",
       "1                                3                           337.0   \n",
       "2                             1239                            -1.0   \n",
       "3                               65                          1068.0   \n",
       "4                              895                          1119.0   \n",
       "...                            ...                             ...   \n",
       "82954                          225                           225.0   \n",
       "82955                          147                           701.0   \n",
       "82956                          760                           760.0   \n",
       "82957                          118                           601.0   \n",
       "82958                           38                          1154.0   \n",
       "\n",
       "       days_since_last_tire_purchase  vehicle_count  model_year_avg   store  \\\n",
       "0                              911.0              1             NaN     779   \n",
       "1                              337.0              3             NaN  349711   \n",
       "2                               -1.0              1             NaN   13420   \n",
       "3                             1068.0              2             NaN   22365   \n",
       "4                              907.0              3             NaN   17140   \n",
       "...                              ...            ...             ...     ...   \n",
       "82954                          225.0              1             NaN   29815   \n",
       "82955                          316.0              1             NaN   20370   \n",
       "82956                          760.0              1             NaN   25380   \n",
       "82957                          448.0              2             NaN   17396   \n",
       "82958                          455.0              3             NaN   22888   \n",
       "\n",
       "       tire_purchase_freq  \n",
       "0                0.000769  \n",
       "1                0.003221  \n",
       "2                0.000000  \n",
       "3                0.000936  \n",
       "4                0.002433  \n",
       "...                   ...  \n",
       "82954            0.000765  \n",
       "82955            0.001541  \n",
       "82956            0.000944  \n",
       "82957            0.001616  \n",
       "82958            0.001688  \n",
       "\n",
       "[82959 rows x 14 columns]"
      ]
     },
     "execution_count": null,
     "metadata": {},
     "output_type": "execute_result"
    }
   ],
   "source": [
    "# preview\n",
    "df"
   ]
  },
  {
   "cell_type": "markdown",
   "id": "d12de259-afd8-4de0-b9c4-ad37863d81b6",
   "metadata": {},
   "source": [
    "## Distributions / Ranges"
   ]
  },
  {
   "cell_type": "code",
   "execution_count": null,
   "id": "747af42b-8b95-41cc-8dea-ff6f6fef94e8",
   "metadata": {},
   "outputs": [
    {
     "data": {
      "text/plain": [
       "array([[<AxesSubplot:title={'center':'days_since_first_transaction'}>]],\n",
       "      dtype=object)"
      ]
     },
     "execution_count": null,
     "metadata": {},
     "output_type": "execute_result"
    },
    {
     "data": {
      "image/png": "[encoded data removed]",
      "text/plain": [
       "<Figure size 432x288 with 1 Axes>"
      ]
     },
     "metadata": {
      "needs_background": "light"
     },
     "output_type": "display_data"
    }
   ],
   "source": [
    "# histogram\n",
    "df.hist(column='days_since_first_transaction', bins=25)"
   ]
  },
  {
   "cell_type": "code",
   "execution_count": null,
   "id": "b14e6353-6cd7-4656-8dce-3bba0f23ac52",
   "metadata": {},
   "outputs": [
    {
     "data": {
      "text/plain": [
       "array([[<AxesSubplot:title={'center':'days_since_last_transaction'}>]],\n",
       "      dtype=object)"
      ]
     },
     "execution_count": null,
     "metadata": {},
     "output_type": "execute_result"
    },
    {
     "data": {
      "image/png": "[encoded data removed]",
      "text/plain": [
       "<Figure size 432x288 with 1 Axes>"
      ]
     },
     "metadata": {
      "needs_background": "light"
     },
     "output_type": "display_data"
    }
   ],
   "source": [
    "# histogram\n",
    "df.hist(column='days_since_last_transaction', bins=25)"
   ]
  },
  {
   "cell_type": "code",
   "execution_count": null,
   "id": "ea4f7399-116a-4379-9a59-b61ec7a89a36",
   "metadata": {},
   "outputs": [
    {
     "data": {
      "text/plain": [
       "array([[<AxesSubplot:title={'center':'days_since_first_tire_purchase'}>]],\n",
       "      dtype=object)"
      ]
     },
     "execution_count": null,
     "metadata": {},
     "output_type": "execute_result"
    },
    {
     "data": {
      "image/png": "[encoded data removed]",
      "text/plain": [
       "<Figure size 432x288 with 1 Axes>"
      ]
     },
     "metadata": {
      "needs_background": "light"
     },
     "output_type": "display_data"
    }
   ],
   "source": [
    "# days_since_first_tire_purchase histogram\n",
    "df.hist(column='days_since_first_tire_purchase', bins=25)"
   ]
  },
  {
   "cell_type": "code",
   "execution_count": null,
   "id": "9917bf66-2bbe-45e0-bb69-b114b7bf6b98",
   "metadata": {},
   "outputs": [
    {
     "data": {
      "text/plain": [
       "array([[<AxesSubplot:title={'center':'days_since_first_tire_purchase'}>]],\n",
       "      dtype=object)"
      ]
     },
     "execution_count": null,
     "metadata": {},
     "output_type": "execute_result"
    },
    {
     "data": {
      "image/png": "[encoded data removed]",
      "text/plain": [
       "<Figure size 432x288 with 1 Axes>"
      ]
     },
     "metadata": {
      "needs_background": "light"
     },
     "output_type": "display_data"
    }
   ],
   "source": [
    "# days_since_first_tire_purchase histogram (excluding -1)\n",
    "df.hist(column='days_since_first_tire_purchase', bins=25, range=(0, 1500))"
   ]
  },
  {
   "cell_type": "code",
   "execution_count": null,
   "id": "525feeb2-3d25-4763-bb51-352a9d1738f6",
   "metadata": {},
   "outputs": [
    {
     "data": {
      "text/plain": [
       "array([[<AxesSubplot:title={'center':'days_since_last_tire_purchase'}>]],\n",
       "      dtype=object)"
      ]
     },
     "execution_count": null,
     "metadata": {},
     "output_type": "execute_result"
    },
    {
     "data": {
      "image/png": "[encoded data removed]",
      "text/plain": [
       "<Figure size 432x288 with 1 Axes>"
      ]
     },
     "metadata": {
      "needs_background": "light"
     },
     "output_type": "display_data"
    }
   ],
   "source": [
    "# days_since_last_tire_purchase histogram\n",
    "df.hist(column='days_since_last_tire_purchase', bins=25)"
   ]
  },
  {
   "cell_type": "code",
   "execution_count": null,
   "id": "2bc4f2d6-9698-4ee5-8788-47e29398fba7",
   "metadata": {},
   "outputs": [
    {
     "data": {
      "text/plain": [
       "array([[<AxesSubplot:title={'center':'days_since_last_tire_purchase'}>]],\n",
       "      dtype=object)"
      ]
     },
     "execution_count": null,
     "metadata": {},
     "output_type": "execute_result"
    },
    {
     "data": {
      "image/png": "[encoded data removed]",
      "text/plain": [
       "<Figure size 432x288 with 1 Axes>"
      ]
     },
     "metadata": {
      "needs_background": "light"
     },
     "output_type": "display_data"
    }
   ],
   "source": [
    "# days_since_last_tire_purchase histogram (excluding -1)\n",
    "df.hist(column='days_since_last_tire_purchase', bins=25, range=(0, 1500))"
   ]
  },
  {
   "cell_type": "markdown",
   "id": "370c39e4-6745-4c3f-a65a-77151224fe5a",
   "metadata": {},
   "source": [
    "## Data Comparisons by Customer"
   ]
  },
  {
   "cell_type": "code",
   "execution_count": null,
   "id": "e7be88cc-7991-4a69-93e4-8fc53470b0de",
   "metadata": {},
   "outputs": [],
   "source": [
    "# days since first tire transaction <= first transaction\n",
    "df['first_tire_valid'] = np.where(df['days_since_first_tire_purchase'] <= df['days_since_first_transaction'], True, False)"
   ]
  },
  {
   "cell_type": "code",
   "execution_count": null,
   "id": "9d89492e-a5b1-4bb4-99a3-b7c4e1cf3a33",
   "metadata": {},
   "outputs": [
    {
     "data": {
      "text/html": [
       "<div>\n",
       "<style scoped>\n",
       "    .dataframe tbody tr th:only-of-type {\n",
       "        vertical-align: middle;\n",
       "    }\n",
       "\n",
       "    .dataframe tbody tr th {\n",
       "        vertical-align: top;\n",
       "    }\n",
       "\n",
       "    .dataframe thead th {\n",
       "        text-align: right;\n",
       "    }\n",
       "</style>\n",
       "<table border=\"1\" class=\"dataframe\">\n",
       "  <thead>\n",
       "    <tr style=\"text-align: right;\">\n",
       "      <th></th>\n",
       "      <th>indiv_id</th>\n",
       "      <th>total_transaction</th>\n",
       "      <th>sales_total</th>\n",
       "      <th>tire_purchases</th>\n",
       "      <th>service_purchases</th>\n",
       "      <th>other_purchases</th>\n",
       "      <th>days_since_first_transaction</th>\n",
       "      <th>days_since_last_transaction</th>\n",
       "      <th>days_since_first_tire_purchase</th>\n",
       "      <th>days_since_last_tire_purchase</th>\n",
       "      <th>vehicle_count</th>\n",
       "      <th>model_year_avg</th>\n",
       "      <th>store</th>\n",
       "      <th>tire_purchase_freq</th>\n",
       "      <th>first_tire_valid</th>\n",
       "    </tr>\n",
       "  </thead>\n",
       "  <tbody>\n",
       "  </tbody>\n",
       "</table>\n",
       "</div>"
      ],
      "text/plain": [
       "Empty DataFrame\n",
       "Columns: [indiv_id, total_transaction, sales_total, tire_purchases, service_purchases, other_purchases, days_since_first_transaction, days_since_last_transaction, days_since_first_tire_purchase, days_since_last_tire_purchase, vehicle_count, model_year_avg, store, tire_purchase_freq, first_tire_valid]\n",
       "Index: []"
      ]
     },
     "execution_count": null,
     "metadata": {},
     "output_type": "execute_result"
    }
   ],
   "source": [
    "df.loc[df['first_tire_valid'] == False]"
   ]
  },
  {
   "cell_type": "code",
   "execution_count": null,
   "id": "8c5b78b3-cb74-4c08-a73d-eacb39610dd6",
   "metadata": {},
   "outputs": [],
   "source": [
    "# last tire transaction <= last transaction\n",
    "df['last_tire_valid'] = np.where((df['days_since_last_tire_purchase'] >= df['days_since_last_transaction']), True, False)\n",
    "df['last_tire_valid'] = np.where((df['days_since_last_tire_purchase'] == -1), True, df['last_tire_valid'])"
   ]
  },
  {
   "cell_type": "code",
   "execution_count": null,
   "id": "8d0da1b0-5cc6-4d50-b02f-186a23791cba",
   "metadata": {},
   "outputs": [
    {
     "data": {
      "text/html": [
       "<div>\n",
       "<style scoped>\n",
       "    .dataframe tbody tr th:only-of-type {\n",
       "        vertical-align: middle;\n",
       "    }\n",
       "\n",
       "    .dataframe tbody tr th {\n",
       "        vertical-align: top;\n",
       "    }\n",
       "\n",
       "    .dataframe thead th {\n",
       "        text-align: right;\n",
       "    }\n",
       "</style>\n",
       "<table border=\"1\" class=\"dataframe\">\n",
       "  <thead>\n",
       "    <tr style=\"text-align: right;\">\n",
       "      <th></th>\n",
       "      <th>indiv_id</th>\n",
       "      <th>total_transaction</th>\n",
       "      <th>sales_total</th>\n",
       "      <th>tire_purchases</th>\n",
       "      <th>service_purchases</th>\n",
       "      <th>other_purchases</th>\n",
       "      <th>days_since_first_transaction</th>\n",
       "      <th>days_since_last_transaction</th>\n",
       "      <th>days_since_first_tire_purchase</th>\n",
       "      <th>days_since_last_tire_purchase</th>\n",
       "      <th>vehicle_count</th>\n",
       "      <th>model_year_avg</th>\n",
       "      <th>store</th>\n",
       "      <th>tire_purchase_freq</th>\n",
       "      <th>first_tire_valid</th>\n",
       "      <th>last_tire_valid</th>\n",
       "    </tr>\n",
       "  </thead>\n",
       "  <tbody>\n",
       "  </tbody>\n",
       "</table>\n",
       "</div>"
      ],
      "text/plain": [
       "Empty DataFrame\n",
       "Columns: [indiv_id, total_transaction, sales_total, tire_purchases, service_purchases, other_purchases, days_since_first_transaction, days_since_last_transaction, days_since_first_tire_purchase, days_since_last_tire_purchase, vehicle_count, model_year_avg, store, tire_purchase_freq, first_tire_valid, last_tire_valid]\n",
       "Index: []"
      ]
     },
     "execution_count": null,
     "metadata": {},
     "output_type": "execute_result"
    }
   ],
   "source": [
    "df.loc[df['last_tire_valid'] == False]"
   ]
  },
  {
   "cell_type": "markdown",
   "id": "a91187f3-753f-4418-95a2-3ad6b0d41e33",
   "metadata": {},
   "source": [
    "## Conclusions\n",
    "- `days_since` figures seem reasonable"
   ]
  },
  {
   "cell_type": "markdown",
   "id": "bd341a9d-161f-4ce1-b8a0-1ec57df50551",
   "metadata": {},
   "source": [
    "## Ideas for New Features"
   ]
  },
  {
   "cell_type": "markdown",
   "id": "b8372d8d-1c4a-4526-9718-af7747123848",
   "metadata": {},
   "source": [
    "`days_since` measures\n",
    "- for service and other product categories\n",
    "\n",
    "`days_between` measures\n",
    "- first transaction, last transaction\n",
    "- first tire, second tire\n",
    "- first transaction, first tire\n",
    "\n",
    "`frequency` measures\n",
    "- any transaction frequency\n",
    "- tire vs transaction frequency\n",
    "\n",
    "`seasonal` measures\n",
    "- purchases for each month (12 features)"
   ]
  },
  {
   "cell_type": "code",
   "execution_count": null,
   "id": "e36900fc-1850-4ca6-aabe-5d561694f99c",
   "metadata": {},
   "outputs": [],
   "source": []
  }
 ],
 "metadata": {
  "kernelspec": {
   "display_name": "Python 3 (ipykernel)",
   "language": "python",
   "name": "python3"
  }
 },
 "nbformat": 4,
 "nbformat_minor": 5
}
