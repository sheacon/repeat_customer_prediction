{
 "cells": [
  {
   "cell_type": "markdown",
   "metadata": {},
   "source": [
    "# 47-prediction-sprint4\n",
    "\n",
    "> Train MLP model on 2015-2018-Aug data, test on 2018-Sept data, predict 2018-Nov by 2018-Oct\n",
    "\n",
    "> Including grid search"
   ]
  },
  {
   "cell_type": "code",
   "execution_count": 35,
   "metadata": {
    "collapsed": true
   },
   "outputs": [],
   "source": [
    "import pandas as pd\n",
    "import numpy as np\n",
    "from sklearn.metrics import accuracy_score, recall_score, f1_score, confusion_matrix\n",
    "from sklearn.model_selection import train_test_split\n",
    "import matplotlib.pyplot as plt\n",
    "import seaborn as sns\n",
    "from sklearn.model_selection import GridSearchCV\n",
    "from sklearn.neural_network import MLPClassifier\n",
    "import os"
   ]
  },
  {
   "cell_type": "markdown",
   "metadata": {},
   "source": [
    "## Gridsearch"
   ]
  },
  {
   "cell_type": "code",
   "execution_count": 36,
   "metadata": {
    "collapsed": true
   },
   "outputs": [],
   "source": [
    "seed=114514\n",
    "test_size=0.25"
   ]
  },
  {
   "cell_type": "markdown",
   "metadata": {},
   "source": [
    "### Rebalancing Samples\n",
    "\n",
    "Due to the imbalanced data, we manually overrepresent the purchases and underrepresent the non-purchases."
   ]
  },
  {
   "cell_type": "code",
   "execution_count": 43,
   "metadata": {
    "collapsed": true
   },
   "outputs": [],
   "source": [
    "new_data = pd.read_csv(\"/data/p_dsi/teams2022/team_1/fe_data1/2015_18_08.csv\")\n",
    "new_data = new_data.fillna(-1)\n",
    "X = new_data.drop('response',axis=1)\n",
    "Y = new_data['response']\n",
    "X_train_old, X_test_old, Y_train, Y_test = train_test_split(X, Y, test_size = test_size, random_state = seed)\n",
    "train = pd.concat([X_train_old, Y_train], axis=1)\n",
    "length = 2*len(train[train['response']==1])\n",
    "buy = train[train['response']==1].sample(n=length, replace=True, random_state = seed)\n",
    "nobuy = train[train['response']==0].sample(n=length, replace=True, random_state = seed)\n",
    "new_train = pd.concat([buy,nobuy])\n",
    "X_train = new_train.drop(['indiv_id','response'], axis=1)\n",
    "Y_train = new_train['response']\n",
    "X_test = X_test_old.drop(['indiv_id'], axis = 1)"
   ]
  },
  {
   "cell_type": "code",
   "execution_count": 44,
   "metadata": {},
   "outputs": [
    {
     "data": {
      "text/plain": [
       "GridSearchCV(cv=5, estimator=MLPClassifier(max_iter=100), n_jobs=-1,\n",
       "             param_grid={'activation': ['relu'],\n",
       "                         'alpha': [0.0001, 0.05, 0.001, 0.005, 0.0005],\n",
       "                         'hidden_layer_sizes': [(31, 50, 10), (31,), (31, 60),\n",
       "                                                (31, 80), (31, 50, 20)],\n",
       "                         'learning_rate': ['adaptive'], 'solver': ['adam']})"
      ]
     },
     "execution_count": 44,
     "metadata": {},
     "output_type": "execute_result"
    }
   ],
   "source": [
    "mlp_gs = MLPClassifier(max_iter=100)\n",
    "parameter_space = {\n",
    "    'hidden_layer_sizes': [(31,50,10),(31,),(31,60),(31,80),(31,50,20)],\n",
    "    'activation': ['relu'],\n",
    "    'solver': ['adam'],\n",
    "    'alpha': [0.0001, 0.05, 0.001, 0.005, 0.0005],\n",
    "    'learning_rate': ['adaptive'],\n",
    "}\n",
    "clf = GridSearchCV(mlp_gs, parameter_space, n_jobs=-1, cv=5)\n",
    "clf.fit(X_train, Y_train) # X is train samples and y is the corresponding labels"
   ]
  },
  {
   "cell_type": "code",
   "execution_count": 45,
   "metadata": {},
   "outputs": [
    {
     "data": {
      "text/plain": [
       "{'activation': 'relu',\n",
       " 'alpha': 0.0001,\n",
       " 'hidden_layer_sizes': (31, 50, 20),\n",
       " 'learning_rate': 'adaptive',\n",
       " 'solver': 'adam'}"
      ]
     },
     "execution_count": 45,
     "metadata": {},
     "output_type": "execute_result"
    }
   ],
   "source": [
    "clf.best_params_"
   ]
  },
  {
   "cell_type": "code",
   "execution_count": 46,
   "metadata": {},
   "outputs": [
    {
     "name": "stdout",
     "output_type": "stream",
     "text": [
      "model predict\n",
      "index: 0.10977\n"
     ]
    }
   ],
   "source": [
    "Y_prob = pd.DataFrame(clf.predict_proba(X_test), columns = ['pred_0', 'pred_1'])\n",
    "Y_pred = clf.predict(X_test)\n",
    "print(\"model predict\")\n",
    "Real_X = pd.read_csv(\"/data/p_dsi/teams2022/team_1/fe_data1/2015_18_09.csv\")\n",
    "Real_X = Real_X.fillna(-1)\n",
    "Real_Y_prob = pd.DataFrame(clf.predict_proba(Real_X.drop(['indiv_id', 'response'], axis=1)), columns = ['pred_0', 'pred_1'])\n",
    "top100k_id_new = pd.concat([Real_X, Real_Y_prob], axis=1).sort_values('pred_1', ascending=False)['indiv_id'].unique()[0:100000]\n",
    "Real_Y = pd.read_csv(\"/data/p_dsi/teams2022/team_1/new_data/20181031.csv\")\n",
    "Real_Y_id = Real_Y[Real_Y['prod_group_code']==5]['indiv_id'].unique()\n",
    "index = len([x for x in top100k_id_new if x in Real_Y_id])/100000\n",
    "print(\"index:\", index)"
   ]
  },
  {
   "cell_type": "markdown",
   "metadata": {},
   "source": [
    "## Prediction based on GS"
   ]
  },
  {
   "cell_type": "code",
   "execution_count": 47,
   "metadata": {
    "collapsed": true
   },
   "outputs": [],
   "source": [
    "Real_X = pd.read_csv(\"/data/p_dsi/teams2022/team_1/fe_data1/2015_18_10.csv\")\n",
    "Real_X = Real_X.fillna(-1)\n",
    "Real_Y_prob = pd.DataFrame(clf.predict_proba(Real_X.drop(['indiv_id'], axis=1)), columns = ['pred_0', 'pred_1'])\n",
    "top100k_id_new = pd.concat([Real_X, Real_Y_prob], axis=1).sort_values('pred_1', ascending=False)['indiv_id'].unique()[0:100000]\n",
    "pd.DataFrame(top100k_id_new).to_csv('/data/p_dsi/teams2022/team_1/top100k_sprint4_2.csv')"
   ]
  },
  {
   "cell_type": "code",
   "execution_count": 48,
   "metadata": {},
   "outputs": [
    {
     "data": {
      "text/plain": [
       "array([  5.32456325e+08,   2.92263617e+08,   2.61233660e+08, ...,\n",
       "         2.94107619e+08,   2.82517034e+08,   2.75713581e+08])"
      ]
     },
     "execution_count": 48,
     "metadata": {},
     "output_type": "execute_result"
    }
   ],
   "source": [
    "top100k_id_new"
   ]
  },
  {
   "cell_type": "markdown",
   "metadata": {
    "collapsed": true
   },
   "source": [
    "## Feature Importances"
   ]
  },
  {
   "cell_type": "code",
   "execution_count": 49,
   "metadata": {
    "collapsed": true
   },
   "outputs": [],
   "source": [
    "from sklearn.inspection import permutation_importance\n",
    "r = permutation_importance(clf, X_test, Y_test,\n",
    "                           n_repeats=10,\n",
    "                           random_state=seed)\n",
    "perm = pd.DataFrame(columns=['AVG_Importance'], index=[i for i in X_train.columns])\n",
    "perm['AVG_Importance'] = r.importances_mean"
   ]
  },
  {
   "cell_type": "code",
   "execution_count": 52,
   "metadata": {
    "collapsed": true
   },
   "outputs": [],
   "source": [
    "perm = perm.sort_values(by='AVG_Importance', ascending = False)"
   ]
  },
  {
   "cell_type": "code",
   "execution_count": 57,
   "metadata": {},
   "outputs": [
    {
     "data": {
      "text/plain": [
       "<matplotlib.axes._subplots.AxesSubplot at 0x2af2addf3160>"
      ]
     },
     "execution_count": 57,
     "metadata": {},
     "output_type": "execute_result"
    }
   ],
   "source": [
    "perm.plot.barh()"
   ]
  },
  {
   "cell_type": "code",
   "execution_count": 58,
   "metadata": {},
   "outputs": [
    {
     "data": {
      "image/png": "[encoded data removed]",
      "text/plain": [
       "<matplotlib.figure.Figure at 0x2af2addf6390>"
      ]
     },
     "metadata": {},
     "output_type": "display_data"
    }
   ],
   "source": [
    "plt.show()"
   ]
  },
  {
   "cell_type": "code",
   "execution_count": null,
   "metadata": {
    "collapsed": true
   },
   "outputs": [],
   "source": []
  }
 ],
 "metadata": {
  "kernelspec": {
   "display_name": "Python 3",
   "language": "python",
   "name": "python3"
  },
  "language_info": {
   "codemirror_mode": {
    "name": "ipython",
    "version": 3
   },
   "file_extension": ".py",
   "mimetype": "text/x-python",
   "name": "python",
   "nbconvert_exporter": "python",
   "pygments_lexer": "ipython3",
   "version": "3.6.3"
  }
 },
 "nbformat": 4,
 "nbformat_minor": 2
}
