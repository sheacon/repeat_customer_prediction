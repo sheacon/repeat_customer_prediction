{
  "cells": [
    {
      "cell_type": "markdown",
      "metadata": {
        "id": "view-in-github",
        "colab_type": "text"
      },
      "source": [
        "<a href=\"https://colab.research.google.com/github/sheacon/repeat_customers/blob/main/12_join_full_data.ipynb\" target=\"_parent\"><img src=\"https://colab.research.google.com/assets/colab-badge.svg\" alt=\"Open In Colab\"/></a>"
      ]
    },
    {
      "cell_type": "markdown",
      "metadata": {
        "id": "8u1higzYIln_"
      },
      "source": [
        "# Join Data\n"
      ]
    },
    {
      "cell_type": "code",
      "source": [
        "# check system specs\n",
        "\n",
        "gpu_info = !nvidia-smi\n",
        "gpu_info = '\\n'.join(gpu_info)\n",
        "if gpu_info.find('failed') >= 0:\n",
        "  print('Not connected to a GPU')\n",
        "else:\n",
        "  print('Connected to a GPU')\n",
        "\n",
        "from psutil import virtual_memory\n",
        "ram_gb = virtual_memory().total / 1e9\n",
        "\n",
        "if ram_gb < 20:\n",
        "  print('Not using a high-RAM runtime: {:.1f} gigabytes of available RAM'.format(ram_gb))\n",
        "else:\n",
        "  print('Using a high-RAM runtime: {:.1f} gigabytes of available RAM'.format(ram_gb))"
      ],
      "metadata": {
        "colab": {
          "base_uri": "https://localhost:8080/"
        },
        "id": "xojTL10R1AQt",
        "outputId": "17267185-0f3a-414a-a076-a6a3127fdc54"
      },
      "execution_count": 2,
      "outputs": [
        {
          "output_type": "stream",
          "name": "stdout",
          "text": [
            "Not connected to a GPU\n",
            "Using a high-RAM runtime: 27.3 gigabytes of available RAM\n"
          ]
        }
      ]
    },
    {
      "cell_type": "code",
      "source": [
        "!pip install pyjanitor==0.23.1"
      ],
      "metadata": {
        "id": "dU1caunPyrcL",
        "outputId": "5c08eb6d-91d5-4715-e6e1-9f40982c2d25",
        "colab": {
          "base_uri": "https://localhost:8080/"
        }
      },
      "execution_count": 3,
      "outputs": [
        {
          "output_type": "stream",
          "name": "stdout",
          "text": [
            "Looking in indexes: https://pypi.org/simple, https://us-python.pkg.dev/colab-wheels/public/simple/\n",
            "Collecting pyjanitor==0.23.1\n",
            "  Downloading pyjanitor-0.23.1-py3-none-any.whl (147 kB)\n",
            "\u001b[2K     \u001b[90m━━━━━━━━━━━━━━━━━━━━━━━━━━━━━━━━━━━━━━━\u001b[0m \u001b[32m147.7/147.7 KB\u001b[0m \u001b[31m4.6 MB/s\u001b[0m eta \u001b[36m0:00:00\u001b[0m\n",
            "\u001b[?25hRequirement already satisfied: scipy in /usr/local/lib/python3.8/dist-packages (from pyjanitor==0.23.1) (1.7.3)\n",
            "Requirement already satisfied: multipledispatch in /usr/local/lib/python3.8/dist-packages (from pyjanitor==0.23.1) (0.6.0)\n",
            "Requirement already satisfied: natsort in /usr/local/lib/python3.8/dist-packages (from pyjanitor==0.23.1) (5.5.0)\n",
            "Collecting pandas-flavor\n",
            "  Downloading pandas_flavor-0.3.0-py3-none-any.whl (6.3 kB)\n",
            "Requirement already satisfied: six in /usr/local/lib/python3.8/dist-packages (from multipledispatch->pyjanitor==0.23.1) (1.15.0)\n",
            "Requirement already satisfied: pandas>=0.23 in /usr/local/lib/python3.8/dist-packages (from pandas-flavor->pyjanitor==0.23.1) (1.3.5)\n",
            "Collecting lazy-loader==0.1rc2\n",
            "  Downloading lazy_loader-0.1rc2-py3-none-any.whl (5.1 kB)\n",
            "Requirement already satisfied: xarray in /usr/local/lib/python3.8/dist-packages (from pandas-flavor->pyjanitor==0.23.1) (2022.12.0)\n",
            "Requirement already satisfied: numpy<1.23.0,>=1.16.5 in /usr/local/lib/python3.8/dist-packages (from scipy->pyjanitor==0.23.1) (1.21.6)\n",
            "Requirement already satisfied: pytz>=2017.3 in /usr/local/lib/python3.8/dist-packages (from pandas>=0.23->pandas-flavor->pyjanitor==0.23.1) (2022.7)\n",
            "Requirement already satisfied: python-dateutil>=2.7.3 in /usr/local/lib/python3.8/dist-packages (from pandas>=0.23->pandas-flavor->pyjanitor==0.23.1) (2.8.2)\n",
            "Requirement already satisfied: packaging>=21.3 in /usr/local/lib/python3.8/dist-packages (from xarray->pandas-flavor->pyjanitor==0.23.1) (21.3)\n",
            "Requirement already satisfied: pyparsing!=3.0.5,>=2.0.2 in /usr/local/lib/python3.8/dist-packages (from packaging>=21.3->xarray->pandas-flavor->pyjanitor==0.23.1) (3.0.9)\n",
            "Installing collected packages: lazy-loader, pandas-flavor, pyjanitor\n",
            "Successfully installed lazy-loader-0.1rc2 pandas-flavor-0.3.0 pyjanitor-0.23.1\n"
          ]
        }
      ]
    },
    {
      "cell_type": "code",
      "execution_count": 4,
      "metadata": {
        "id": "689iQwrFIloB"
      },
      "outputs": [],
      "source": [
        "# import packages\n",
        "import pandas as pd\n",
        "import numpy as np\n",
        "import os\n",
        "import janitor"
      ]
    },
    {
      "cell_type": "code",
      "source": [],
      "metadata": {
        "id": "hDyX8U7KbzUb"
      },
      "execution_count": null,
      "outputs": []
    },
    {
      "cell_type": "markdown",
      "source": [
        "## Load Data, Except Sales"
      ],
      "metadata": {
        "id": "MPxVQNulb1HI"
      }
    },
    {
      "cell_type": "code",
      "source": [
        "# mount google drive\n",
        "from google.colab import drive\n",
        "drive.mount('/content/gdrive')\n",
        "     \n",
        "# navigate to directory\n",
        "%cd /content/gdrive/MyDrive/Projects/repeat_customers/data"
      ],
      "metadata": {
        "id": "llahQjbBIyJG",
        "colab": {
          "base_uri": "https://localhost:8080/"
        },
        "outputId": "177ceca5-b6bd-474a-cac6-c1f1a2fec4e3"
      },
      "execution_count": 5,
      "outputs": [
        {
          "output_type": "stream",
          "name": "stdout",
          "text": [
            "Mounted at /content/gdrive\n",
            "/content/gdrive/MyDrive/Projects/repeat_customers/data\n"
          ]
        }
      ]
    },
    {
      "cell_type": "code",
      "execution_count": 6,
      "metadata": {
        "id": "cU9IA-2GIloD"
      },
      "outputs": [],
      "source": [
        "if not os.path.exists('processed/'):\n",
        "    os.mkdir('processed/')"
      ]
    },
    {
      "cell_type": "code",
      "source": [
        "# read individuals\n",
        "# set int32 and category dtypes for memory efficiency\n",
        "col_list = ['MZB_INDIV_ID','EMAIL_OPTIN_IND','AH1_RES_BUS_INDC','SUPP1_BUS_PANDER']\n",
        "individuals = pd.read_csv('raw/individual.csv'\n",
        "                          ,sep=','\n",
        "                          ,usecols=col_list\n",
        "                          ,dtype = {'MZB_INDIV_ID':np.int32,'EMAIL_OPTIN_IND':'category','AH1_RES_BUS_INDC':'category','SUPP1_BUS_PANDER':'category'} \n",
        "                         ).clean_names()\n",
        "individuals.rename(columns={'mzb_indiv_id':'indiv_id'}, inplace=True)\n",
        "\n",
        "print(individuals.info())"
      ],
      "metadata": {
        "id": "BxRbBmiRVsYi",
        "colab": {
          "base_uri": "https://localhost:8080/"
        },
        "outputId": "f8a44541-d1d5-4491-9486-c6e88cfd916d"
      },
      "execution_count": 14,
      "outputs": [
        {
          "output_type": "stream",
          "name": "stdout",
          "text": [
            "<class 'pandas.core.frame.DataFrame'>\n",
            "RangeIndex: 16834962 entries, 0 to 16834961\n",
            "Data columns (total 4 columns):\n",
            " #   Column            Dtype   \n",
            "---  ------            -----   \n",
            " 0   indiv_id          int32   \n",
            " 1   email_optin_ind   category\n",
            " 2   ah1_res_bus_indc  category\n",
            " 3   supp1_bus_pander  category\n",
            "dtypes: category(3), int32(1)\n",
            "memory usage: 112.4 MB\n",
            "None\n"
          ]
        }
      ]
    },
    {
      "cell_type": "code",
      "source": [
        "# read products\n",
        "col_list = ['ARTICLE_ID', 'PROD_GROUP_CODE', 'PROD_GROUP_DESC', 'CATEGORY_CODE',\n",
        "            'CATEGORY_DESC', 'SEGMENT_CODE', 'SEGMENT_DESC', 'CLASS_CODE',\n",
        "            'CLASS_DESC', 'DISCOUNT_FLAG', 'CROSS_SECTION', 'ASPECT_RATIO',\n",
        "            'RIM_SIZE']\n",
        "products = pd.read_csv('raw/product.csv'\n",
        "                        ,sep='|'\n",
        "                        ,usecols=col_list\n",
        "                        ,dtype = {'ARTICLE_ID':np.int32, 'PROD_GROUP_CODE':'category', 'PROD_GROUP_DESC':'category', 'CATEGORY_CODE':'category',\n",
        "                                  'CATEGORY_DESC':'category', 'SEGMENT_CODE':'category', 'SEGMENT_DESC':'category', 'CLASS_CODE':'category',\n",
        "                                  'CLASS_DESC':'category', 'DISCOUNT_FLAG':'category', 'CROSS_SECTION':'category', 'ASPECT_RATIO':'category',\n",
        "                                  'RIM_SIZE':'category'}\n",
        "                        ).clean_names()\n",
        "products.info()\n",
        "print(products.nunique())"
      ],
      "metadata": {
        "id": "mAx497vIYpPw",
        "outputId": "8fd395c6-8d2d-4f5c-9d5b-a4bda8abd8c4",
        "colab": {
          "base_uri": "https://localhost:8080/"
        }
      },
      "execution_count": 10,
      "outputs": [
        {
          "output_type": "stream",
          "name": "stdout",
          "text": [
            "<class 'pandas.core.frame.DataFrame'>\n",
            "RangeIndex: 56842 entries, 0 to 56841\n",
            "Data columns (total 13 columns):\n",
            " #   Column           Non-Null Count  Dtype   \n",
            "---  ------           --------------  -----   \n",
            " 0   article_id       56842 non-null  int32   \n",
            " 1   prod_group_code  56818 non-null  category\n",
            " 2   prod_group_desc  56818 non-null  category\n",
            " 3   category_code    56818 non-null  category\n",
            " 4   category_desc    56818 non-null  category\n",
            " 5   segment_code     56818 non-null  category\n",
            " 6   segment_desc     56818 non-null  category\n",
            " 7   class_code       56818 non-null  category\n",
            " 8   class_desc       56818 non-null  category\n",
            " 9   discount_flag    56818 non-null  category\n",
            " 10  cross_section    35670 non-null  category\n",
            " 11  aspect_ratio     35665 non-null  category\n",
            " 12  rim_size         35504 non-null  category\n",
            "dtypes: category(12), int32(1)\n",
            "memory usage: 1.1 MB\n",
            "article_id         56842\n",
            "prod_group_code        3\n",
            "prod_group_desc        3\n",
            "category_code         18\n",
            "category_desc         18\n",
            "segment_code          64\n",
            "segment_desc          65\n",
            "class_code           195\n",
            "class_desc           190\n",
            "discount_flag          3\n",
            "cross_section        195\n",
            "aspect_ratio          58\n",
            "rim_size              52\n",
            "dtype: int64\n"
          ]
        }
      ]
    },
    {
      "cell_type": "code",
      "source": [
        "# read stores\n",
        "col_list = ['STORE_ID','STATE_CODE','ZIP_CODE','MSA']\n",
        "stores = pd.read_csv('raw/store.csv'\n",
        "                      ,sep='|'\n",
        "                      ,usecols=col_list\n",
        "                      ,dtype = {'STORE_ID':'category','STATE_CODE':'category','ZIP_CODE':'category','MSA':'category'}\n",
        "                      ).clean_names()\n",
        "stores.info()\n",
        "print(stores.nunique())"
      ],
      "metadata": {
        "colab": {
          "base_uri": "https://localhost:8080/"
        },
        "id": "tptbwSQ-aqu5",
        "outputId": "3749862c-4869-40cc-ae34-c66df042d9f2"
      },
      "execution_count": 13,
      "outputs": [
        {
          "output_type": "stream",
          "name": "stdout",
          "text": [
            "<class 'pandas.core.frame.DataFrame'>\n",
            "RangeIndex: 2814 entries, 0 to 2813\n",
            "Data columns (total 4 columns):\n",
            " #   Column      Non-Null Count  Dtype   \n",
            "---  ------      --------------  -----   \n",
            " 0   store_id    2814 non-null   category\n",
            " 1   state_code  2814 non-null   category\n",
            " 2   zip_code    2814 non-null   category\n",
            " 3   msa         2309 non-null   category\n",
            "dtypes: category(4)\n",
            "memory usage: 201.0 KB\n",
            "store_id      2814\n",
            "state_code      48\n",
            "zip_code      2374\n",
            "msa            321\n",
            "dtype: int64\n"
          ]
        }
      ]
    },
    {
      "cell_type": "code",
      "source": [
        "# read vehicles\n",
        "col_list = ['VEHICLE_ID','MAKE','MODEL','SUB_MODEL','MODEL_YEAR']\n",
        "vehicles = pd.read_csv('raw/vehicle.csv'\n",
        "                        ,sep='|'\n",
        "                        ,usecols=col_list\n",
        "                        ,dtype = {'VEHICLE_ID':np.int32,'MAKE':object,'MODEL':object,'SUB_MODEL':object,'MODEL_YEAR':np.int16}\n",
        "                        ).clean_names()\n",
        "vehicles.info()\n",
        "print(vehicles.nunique())"
      ],
      "metadata": {
        "colab": {
          "base_uri": "https://localhost:8080/"
        },
        "id": "NJMHl2pfbmqb",
        "outputId": "f65774b9-d73a-41cd-d637-79bdece9db9f"
      },
      "execution_count": 18,
      "outputs": [
        {
          "output_type": "stream",
          "name": "stdout",
          "text": [
            "<class 'pandas.core.frame.DataFrame'>\n",
            "RangeIndex: 27854109 entries, 0 to 27854108\n",
            "Data columns (total 5 columns):\n",
            " #   Column      Dtype \n",
            "---  ------      ----- \n",
            " 0   VEHICLE_ID  int32 \n",
            " 1   MAKE        object\n",
            " 2   MODEL       object\n",
            " 3   SUB_MODEL   object\n",
            " 4   MODEL_YEAR  int16 \n",
            "dtypes: int16(1), int32(1), object(3)\n",
            "memory usage: 796.9+ MB\n",
            "VEHICLE_ID    27854109\n",
            "MAKE              5064\n",
            "MODEL            22573\n",
            "SUB_MODEL         9206\n",
            "MODEL_YEAR         196\n",
            "dtype: int64\n"
          ]
        }
      ]
    },
    {
      "cell_type": "markdown",
      "source": [
        "## Load Sales Data"
      ],
      "metadata": {
        "id": "rEAyXa7Cc7I5"
      }
    },
    {
      "cell_type": "code",
      "source": [
        "# create list of sales files\n",
        "sales_files = [i for i in os.listdir('raw/') if 'sales_' in i]\n",
        "\n",
        "# column list\n",
        "col_list = ['STORE_ID','TRAN_ID','DATE','ARTICLE_ID','INDIV_ID','VEHICLE_ID','UNITS','SALES']"
      ],
      "metadata": {
        "id": "fn6BQbca38Vj"
      },
      "execution_count": 20,
      "outputs": []
    },
    {
      "cell_type": "code",
      "source": [
        "# date_parser = lambda dates : pd.datetime(dates, '%Y-%m-%d')"
      ],
      "metadata": {
        "id": "yegBmr7EeIaO"
      },
      "execution_count": 31,
      "outputs": []
    },
    {
      "cell_type": "code",
      "source": [
        "# load initial sales file\n",
        "df = pd.read_csv('raw/' + sales_files[0]\n",
        "                  ,sep='|'\n",
        "                  ,usecols=col_list\n",
        "                  #,parse_dates=['DATE']\n",
        "                  #,date_parser=date_parser\n",
        "                  ,dtype = {'STORE_ID':'category','TRAN_ID':np.int32,'DATE':'category',\n",
        "                            'ARTICLE_ID':np.int32,'VEHICLE_ID':np.int32,\n",
        "                            'UNITS':np.int8,'SALES':np.float16\n",
        "                            ,'INDIV_ID':np.float16 # int32 throws error claiming float value\n",
        "                            }\n",
        "                 ).clean_names()\n",
        "df.info()\n",
        "print(df.nunique())"
      ],
      "metadata": {
        "colab": {
          "base_uri": "https://localhost:8080/"
        },
        "id": "wlJZGnaKc-Jk",
        "outputId": "020d1e3b-ec0a-48b3-aecf-9c2e6a675845"
      },
      "execution_count": 44,
      "outputs": [
        {
          "output_type": "stream",
          "name": "stdout",
          "text": [
            "<class 'pandas.core.frame.DataFrame'>\n",
            "RangeIndex: 14804703 entries, 0 to 14804702\n",
            "Data columns (total 8 columns):\n",
            " #   Column      Dtype   \n",
            "---  ------      -----   \n",
            " 0   store_id    category\n",
            " 1   tran_id     int32   \n",
            " 2   date        category\n",
            " 3   article_id  int32   \n",
            " 4   indiv_id    float16 \n",
            " 5   vehicle_id  int32   \n",
            " 6   units       int8    \n",
            " 7   sales       float16 \n",
            "dtypes: category(2), float16(2), int32(3), int8(1)\n",
            "memory usage: 282.5 MB\n",
            "store_id         2204\n",
            "tran_id        309871\n",
            "date               30\n",
            "article_id       8533\n",
            "indiv_id            1\n",
            "vehicle_id    1321780\n",
            "units             107\n",
            "sales           15266\n",
            "dtype: int64\n"
          ]
        }
      ]
    },
    {
      "cell_type": "code",
      "source": [
        "# combine all sales\n",
        "for file in sales_files[1:]:\n",
        "\n",
        "  sales_to_append = pd.read_csv('raw/' + file\n",
        "                                ,sep='|'\n",
        "                                ,usecols=col_list\n",
        "                                #,parse_dates=['DATE']\n",
        "                                #,date_parser=date_parser\n",
        "                                ,dtype = {'STORE_ID':'category','TRAN_ID':np.int32,'DATE':'category',\n",
        "                                          'ARTICLE_ID':np.int32,'VEHICLE_ID':np.int32,\n",
        "                                          'UNITS':np.int8,'SALES':np.float16\n",
        "                                          ,'INDIV_ID':np.float16 # int32 throws error claiming float value\n",
        "                                          }\n",
        "                              ).clean_names()\n",
        "  print(file,': ',f\"{sales_to_append.shape[0]:,d}\")\n",
        "  \n",
        "  df = pd.concat([df,sales_to_append], axis = 0)\n",
        "  print('df: ',f\"{df.shape[0]:,d}\")"
      ],
      "metadata": {
        "colab": {
          "base_uri": "https://localhost:8080/"
        },
        "id": "mvsHOdOa3I-U",
        "outputId": "86770a48-61fb-411a-8325-6e250e55e3dc"
      },
      "execution_count": null,
      "outputs": [
        {
          "output_type": "stream",
          "name": "stdout",
          "text": [
            "sales_20181031.csv :  15,432,276\n",
            "df:  30,236,979\n",
            "sales_20180831.csv :  15,630,241\n",
            "df:  45,867,220\n",
            "sales_20180731.csv :  15,197,671\n",
            "df:  61,064,891\n",
            "sales_20180630.csv :  15,888,468\n",
            "df:  76,953,359\n",
            "sales_20180531.csv :  15,942,240\n",
            "df:  92,895,599\n",
            "sales_20180430.csv :  14,449,096\n",
            "df:  107,344,695\n",
            "sales_20180331.csv :  16,057,725\n",
            "df:  123,402,420\n",
            "sales_20180228.csv :  13,247,533\n",
            "df:  136,649,953\n",
            "sales_20180131.csv :  14,986,650\n",
            "df:  151,636,603\n",
            "sales_20171231.csv :  14,542,920\n",
            "df:  166,179,523\n",
            "sales_20171130.csv :  15,591,791\n",
            "df:  181,771,314\n",
            "sales_20171031.csv :  15,800,806\n",
            "df:  197,572,120\n",
            "sales_20170930.csv :  14,876,691\n",
            "df:  212,448,811\n",
            "sales_20170831.csv :  15,602,358\n",
            "df:  228,051,169\n",
            "sales_20170731.csv :  15,388,366\n",
            "df:  243,439,535\n",
            "sales_20170630.csv :  15,885,612\n",
            "df:  259,325,147\n",
            "sales_20170531.csv :  15,760,198\n",
            "df:  275,085,345\n",
            "sales_20170430.csv :  14,912,797\n"
          ]
        }
      ]
    },
    {
      "cell_type": "code",
      "source": [
        "df.to_csv('processed/combined_sales.csv')"
      ],
      "metadata": {
        "id": "ADkFh3yj7KFj"
      },
      "execution_count": null,
      "outputs": []
    },
    {
      "cell_type": "markdown",
      "source": [
        "---\n",
        "---\n",
        "---"
      ],
      "metadata": {
        "id": "liarweB3-DnY"
      }
    },
    {
      "cell_type": "code",
      "source": [],
      "metadata": {
        "id": "e1Pv2ANR-CD4"
      },
      "execution_count": null,
      "outputs": []
    },
    {
      "cell_type": "code",
      "source": [
        "def join_data(sales_name_list):\n",
        "    new_list = []\n",
        "    for name in sales_name_list:\n",
        "        # read data files and clean names\n",
        "        sale = pd.read_csv('raw/' + name, sep='|', skiprows=[1]).clean_names()\n",
        "        \n",
        "        # convert store id to string\n",
        "        sale['store_id'] = sale['store_id'].apply(str)\n",
        "     \n",
        "        # merging the data sets together\n",
        "        mega_table = sale.merge(product, on = 'article_id', how = 'left').\\\n",
        "            merge(store, on = 'store_id', how = 'left').\\\n",
        "            merge(individual, on = 'indiv_id', how = 'left').\\\n",
        "            merge(vehicle, on = 'vehicle_id', how = 'left')\n",
        "        \n",
        "        # extracting name for storing data sets\n",
        "        new_name = name[6:]\n",
        "        new_list.append(new_name)\n",
        "        mega_table[\"year\"] = new_name[:4]\n",
        "        mega_table['month'] = new_name[4:-4]\n",
        "        mega_table = mega_table[(mega_table['ah1_res_bus_indc'] == 'R') & (mega_table['supp1_bus_pander'] == 'N') & (mega_table['email_optin_ind'] == 'Y')]\n",
        "        mega_table = mega_table.drop(['ah1_res_bus_indc', 'supp1_bus_pander', 'email_optin_ind'], axis=1)\n",
        "        col_list = list(mega_table.columns)\n",
        "        mega_table.to_csv(\"/data/p_dsi/teams2022/team_1/new_data/\" + new_name)\n",
        "    return new_list, col_list"
      ],
      "metadata": {
        "id": "ADQ1PCPD1HIe"
      },
      "execution_count": null,
      "outputs": []
    },
    {
      "cell_type": "code",
      "execution_count": null,
      "metadata": {
        "id": "QT_6h2-kIloE"
      },
      "outputs": [],
      "source": [
        "def combine_data(sales_list):\n",
        "    data_list, col_list = join_data(sales_list)\n",
        "    df = pd.DataFrame(columns = col_list)\n",
        "    for data_name in data_list: \n",
        "        if os.path.isfile('processed/' + data_name + \".csv\"):\n",
        "            df1 = pd.read_csv('processed/' + data_name + \".csv\")\n",
        "            df = pd.concat([df1, df], axis = 0)\n",
        "            df = df.reset_index(drop = True)\n",
        "    return (df)"
      ]
    },
    {
      "cell_type": "code",
      "execution_count": null,
      "metadata": {
        "id": "DDvFhBvTIloE"
      },
      "outputs": [],
      "source": [
        "combine_df = combine_data(sales_name_list)"
      ]
    },
    {
      "cell_type": "code",
      "execution_count": null,
      "metadata": {
        "id": "3iymXMu7IloE"
      },
      "outputs": [],
      "source": [
        "combine_df.to_csv(\"/data/p_dsi/teams2022/team_1/new_data/total_dataset.csv\", index = False)"
      ]
    },
    {
      "cell_type": "markdown",
      "metadata": {
        "id": "3Vnx2THDIloE"
      },
      "source": [
        "There is a high probability for ACCRE to break down during the final combination process. So when you run this notebook, it will be better to use a 4GPU (24 cores) server."
      ]
    },
    {
      "cell_type": "code",
      "execution_count": null,
      "metadata": {
        "id": "FqdlCaWAIloF"
      },
      "outputs": [],
      "source": []
    }
  ],
  "metadata": {
    "kernelspec": {
      "display_name": "Python 3 (ipykernel)",
      "language": "python",
      "name": "python3"
    },
    "colab": {
      "provenance": [],
      "machine_shape": "hm",
      "include_colab_link": true
    },
    "gpuClass": "standard"
  },
  "nbformat": 4,
  "nbformat_minor": 0
}