{
 "cells": [
  {
   "cell_type": "markdown",
   "id": "ed2042ba-2650-45a5-b266-9835a0f5f208",
   "metadata": {},
   "source": [
    "# 20_eda\n",
    "> Exploratory data analysis\n",
    "\n",
    "In this notebook, we investigate the data."
   ]
  },
  {
   "cell_type": "code",
   "execution_count": null,
   "id": "e48ded73-9671-43ae-baeb-ba37d4ae1c21",
   "metadata": {},
   "outputs": [],
   "source": []
  }
 ],
 "metadata": {
  "kernelspec": {
   "display_name": "Python 3 (ipykernel)",
   "language": "python",
   "name": "python3"
  }
 },
 "nbformat": 4,
 "nbformat_minor": 5
}
