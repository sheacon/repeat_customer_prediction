{
 "cells": [
  {
   "cell_type": "markdown",
   "id": "51770e73",
   "metadata": {},
   "source": [
    "# 24-eda-product\n",
    "> Exploratory data analysis on product dataset"
   ]
  },
  {
   "cell_type": "code",
   "execution_count": null,
   "id": "2aa4cb0e",
   "metadata": {},
   "outputs": [],
   "source": [
    "# import packages\n",
    "import pandas as pd\n",
    "import janitor\n",
    "import numpy as np\n",
    "import seaborn as sns\n",
    "import matplotlib.pyplot as plt"
   ]
  },
  {
   "cell_type": "code",
   "execution_count": null,
   "id": "cdc45c74",
   "metadata": {},
   "outputs": [],
   "source": [
    "# load the product file\n",
    "product = pd.read_csv('sample_data/product.csv', sep = '|', skiprows=[1]).clean_names()"
   ]
  },
  {
   "cell_type": "code",
   "execution_count": null,
   "id": "068a5908",
   "metadata": {},
   "outputs": [
    {
     "data": {
      "text/plain": [
       "array(['Tires', 'Other', 'Services', nan], dtype=object)"
      ]
     },
     "execution_count": null,
     "metadata": {},
     "output_type": "execute_result"
    }
   ],
   "source": [
    "product['prod_group_desc'].unique()"
   ]
  },
  {
   "cell_type": "code",
   "execution_count": null,
   "id": "68dac384",
   "metadata": {},
   "outputs": [],
   "source": [
    "# Select the observations we are interested\n",
    "product = product.loc[product['prod_group_desc'] == 'Tires']"
   ]
  },
  {
   "cell_type": "code",
   "execution_count": null,
   "id": "6e3d91bc",
   "metadata": {},
   "outputs": [
    {
     "data": {
      "text/html": [
       "<div>\n",
       "<style scoped>\n",
       "    .dataframe tbody tr th:only-of-type {\n",
       "        vertical-align: middle;\n",
       "    }\n",
       "\n",
       "    .dataframe tbody tr th {\n",
       "        vertical-align: top;\n",
       "    }\n",
       "\n",
       "    .dataframe thead th {\n",
       "        text-align: right;\n",
       "    }\n",
       "</style>\n",
       "<table border=\"1\" class=\"dataframe\">\n",
       "  <thead>\n",
       "    <tr style=\"text-align: right;\">\n",
       "      <th></th>\n",
       "      <th>article_id</th>\n",
       "      <th>prod_group_code</th>\n",
       "      <th>prod_group_desc</th>\n",
       "      <th>category_code</th>\n",
       "      <th>category_desc</th>\n",
       "      <th>segment_code</th>\n",
       "      <th>segment_desc</th>\n",
       "      <th>class_code</th>\n",
       "      <th>class_desc</th>\n",
       "      <th>discount_flag</th>\n",
       "      <th>cross_section</th>\n",
       "      <th>aspect_ratio</th>\n",
       "      <th>rim_size</th>\n",
       "    </tr>\n",
       "  </thead>\n",
       "  <tbody>\n",
       "    <tr>\n",
       "      <th>0</th>\n",
       "      <td>20257</td>\n",
       "      <td>5.0</td>\n",
       "      <td>Tires</td>\n",
       "      <td>26.0</td>\n",
       "      <td>Passenger Tires</td>\n",
       "      <td>29.0</td>\n",
       "      <td>Performance Tires</td>\n",
       "      <td>37.0</td>\n",
       "      <td>S/T Performance Tires</td>\n",
       "      <td>N</td>\n",
       "      <td>225</td>\n",
       "      <td>60</td>\n",
       "      <td>16</td>\n",
       "    </tr>\n",
       "    <tr>\n",
       "      <th>1</th>\n",
       "      <td>53872</td>\n",
       "      <td>5.0</td>\n",
       "      <td>Tires</td>\n",
       "      <td>26.0</td>\n",
       "      <td>Passenger Tires</td>\n",
       "      <td>29.0</td>\n",
       "      <td>Performance Tires</td>\n",
       "      <td>37.0</td>\n",
       "      <td>S/T Performance Tires</td>\n",
       "      <td>N</td>\n",
       "      <td>215</td>\n",
       "      <td>60</td>\n",
       "      <td>14</td>\n",
       "    </tr>\n",
       "    <tr>\n",
       "      <th>2</th>\n",
       "      <td>20192</td>\n",
       "      <td>5.0</td>\n",
       "      <td>Tires</td>\n",
       "      <td>26.0</td>\n",
       "      <td>Passenger Tires</td>\n",
       "      <td>29.0</td>\n",
       "      <td>Performance Tires</td>\n",
       "      <td>37.0</td>\n",
       "      <td>S/T Performance Tires</td>\n",
       "      <td>N</td>\n",
       "      <td>195</td>\n",
       "      <td>65</td>\n",
       "      <td>15</td>\n",
       "    </tr>\n",
       "    <tr>\n",
       "      <th>3</th>\n",
       "      <td>45500</td>\n",
       "      <td>5.0</td>\n",
       "      <td>Tires</td>\n",
       "      <td>26.0</td>\n",
       "      <td>Passenger Tires</td>\n",
       "      <td>29.0</td>\n",
       "      <td>Performance Tires</td>\n",
       "      <td>37.0</td>\n",
       "      <td>S/T Performance Tires</td>\n",
       "      <td>N</td>\n",
       "      <td>175</td>\n",
       "      <td>70</td>\n",
       "      <td>13</td>\n",
       "    </tr>\n",
       "    <tr>\n",
       "      <th>4</th>\n",
       "      <td>20001</td>\n",
       "      <td>5.0</td>\n",
       "      <td>Tires</td>\n",
       "      <td>26.0</td>\n",
       "      <td>Passenger Tires</td>\n",
       "      <td>29.0</td>\n",
       "      <td>Performance Tires</td>\n",
       "      <td>37.0</td>\n",
       "      <td>S/T Performance Tires</td>\n",
       "      <td>N</td>\n",
       "      <td>205</td>\n",
       "      <td>70</td>\n",
       "      <td>14</td>\n",
       "    </tr>\n",
       "  </tbody>\n",
       "</table>\n",
       "</div>"
      ],
      "text/plain": [
       "   article_id  prod_group_code prod_group_desc  category_code  \\\n",
       "0       20257              5.0           Tires           26.0   \n",
       "1       53872              5.0           Tires           26.0   \n",
       "2       20192              5.0           Tires           26.0   \n",
       "3       45500              5.0           Tires           26.0   \n",
       "4       20001              5.0           Tires           26.0   \n",
       "\n",
       "     category_desc  segment_code       segment_desc  class_code  \\\n",
       "0  Passenger Tires          29.0  Performance Tires        37.0   \n",
       "1  Passenger Tires          29.0  Performance Tires        37.0   \n",
       "2  Passenger Tires          29.0  Performance Tires        37.0   \n",
       "3  Passenger Tires          29.0  Performance Tires        37.0   \n",
       "4  Passenger Tires          29.0  Performance Tires        37.0   \n",
       "\n",
       "              class_desc discount_flag cross_section aspect_ratio rim_size  \n",
       "0  S/T Performance Tires             N           225           60       16  \n",
       "1  S/T Performance Tires             N           215           60       14  \n",
       "2  S/T Performance Tires             N           195           65       15  \n",
       "3  S/T Performance Tires             N           175           70       13  \n",
       "4  S/T Performance Tires             N           205           70       14  "
      ]
     },
     "execution_count": null,
     "metadata": {},
     "output_type": "execute_result"
    }
   ],
   "source": [
    "product.head()"
   ]
  },
  {
   "cell_type": "code",
   "execution_count": null,
   "id": "751eafd7",
   "metadata": {},
   "outputs": [
    {
     "data": {
      "text/plain": [
       "(36265, 13)"
      ]
     },
     "execution_count": null,
     "metadata": {},
     "output_type": "execute_result"
    }
   ],
   "source": [
    "product.shape"
   ]
  },
  {
   "cell_type": "code",
   "execution_count": null,
   "id": "585db188",
   "metadata": {},
   "outputs": [
    {
     "data": {
      "text/plain": [
       "array([5.])"
      ]
     },
     "execution_count": null,
     "metadata": {},
     "output_type": "execute_result"
    }
   ],
   "source": [
    "product['prod_group_code'].unique()"
   ]
  },
  {
   "cell_type": "code",
   "execution_count": null,
   "id": "f749d095",
   "metadata": {},
   "outputs": [
    {
     "data": {
      "text/plain": [
       "array([2.60000e+01, 1.23641e+05, 4.50000e+01, 4.40000e+01, 2.01580e+04])"
      ]
     },
     "execution_count": null,
     "metadata": {},
     "output_type": "execute_result"
    }
   ],
   "source": [
    "product['category_code'].unique()"
   ]
  },
  {
   "cell_type": "code",
   "execution_count": null,
   "id": "1b7d383a",
   "metadata": {},
   "outputs": [
    {
     "data": {
      "text/plain": [
       "array(['Passenger Tires', 'Motorcycle', 'Others', 'Light Truck Tires',\n",
       "       'Road Hazard'], dtype=object)"
      ]
     },
     "execution_count": null,
     "metadata": {},
     "output_type": "execute_result"
    }
   ],
   "source": [
    "product['category_desc'].unique()"
   ]
  },
  {
   "cell_type": "code",
   "execution_count": null,
   "id": "06948132",
   "metadata": {},
   "outputs": [
    {
     "data": {
      "text/plain": [
       "array(['Performance Tires', 'Touring', 'Other Passenger Tires',\n",
       "       'P Metric Light Truck Tires', 'Snow Tires-PS', 'Motorcycle Tire',\n",
       "       'Import Tires', 'P-Metric CUV/SUV', 'Tubes', 'Agricultural Tires',\n",
       "       'Commercial/Recreational', 'Miscellaneous Tire Related Items',\n",
       "       'Commercial Tires', 'Recreational Tires', 'Snow Tires-LT',\n",
       "       'Medium Truck Tires', 'Off-The-Road Tires', 'Industrial Tires',\n",
       "       'Road Hazard', 'Other L/T Tires', 'Motorcycle Tire Accessory'],\n",
       "      dtype=object)"
      ]
     },
     "execution_count": null,
     "metadata": {},
     "output_type": "execute_result"
    }
   ],
   "source": [
    "product['segment_desc'].unique()"
   ]
  },
  {
   "cell_type": "code",
   "execution_count": null,
   "id": "bc5215e4",
   "metadata": {},
   "outputs": [
    {
     "data": {
      "text/plain": [
       "array(['S/T Performance Tires', 'Performance All-Season',\n",
       "       'Ultra High Performance Summer', 'Touring H/V/Z Tires',\n",
       "       'Ultra High Performance All Season', 'UHP Competition',\n",
       "       'Car & Minivan All-Season', 'Economy Tires',\n",
       "       'Other Passenger Tires', 'Highway Tires', 'Snow Tires',\n",
       "       'Mass Market Tires', 'Moto Tire', 'All Terrain Tires',\n",
       "       'Import Tires', 'CUV/SUV Highway All-Season',\n",
       "       'CUV/SUV Sport Performance Summer', 'CUV/SUV All-Terrain', 'Tubes',\n",
       "       'Rear Ag Tires', 'Highway All-Season', 'All-Terrain', 'Other',\n",
       "       'Flotation Ag Tires', 'Max Traction Tires', 'Maximum Traction',\n",
       "       'Snow Tires - Commercial LT', 'Radial Tires',\n",
       "       'Snow Tires - All Terrain LT', 'Garden Tires',\n",
       "       'Implement Tires/Industrial', 'Front Ag Tires', 'Bias Tires',\n",
       "       'Small Off-the-Road Tires', 'Forestry Tires',\n",
       "       'Large Off-the-Road Tires', 'Wide Base Tires', 'Industrial Tires',\n",
       "       'Stubble Stomper Tires', 'BS ATV TIRES',\n",
       "       'Misc/Discounts/Non-Inventoreable', 'Road Hazard',\n",
       "       'Other L/T Tires', 'Moto Tube'], dtype=object)"
      ]
     },
     "execution_count": null,
     "metadata": {},
     "output_type": "execute_result"
    }
   ],
   "source": [
    "product['class_desc'].unique()"
   ]
  },
  {
   "cell_type": "code",
   "execution_count": null,
   "id": "acedc4ab",
   "metadata": {},
   "outputs": [
    {
     "data": {
      "text/plain": [
       "array(['N', 'Y', 'E'], dtype=object)"
      ]
     },
     "execution_count": null,
     "metadata": {},
     "output_type": "execute_result"
    }
   ],
   "source": [
    "product['discount_flag'].unique()"
   ]
  },
  {
   "cell_type": "code",
   "execution_count": null,
   "id": "3db9e5fb",
   "metadata": {},
   "outputs": [
    {
     "data": {
      "text/plain": [
       "<seaborn.axisgrid.FacetGrid at 0x7fd53018c2b0>"
      ]
     },
     "execution_count": null,
     "metadata": {},
     "output_type": "execute_result"
    },
    {
     "data": {
      "image/png": "[encoded data removed]",
      "text/plain": [
       "<Figure size 360x360 with 1 Axes>"
      ]
     },
     "metadata": {
      "needs_background": "light"
     },
     "output_type": "display_data"
    }
   ],
   "source": [
    "sns.displot(product['discount_flag'])"
   ]
  },
  {
   "cell_type": "code",
   "execution_count": null,
   "id": "43fca9d6",
   "metadata": {},
   "outputs": [
    {
     "data": {
      "text/plain": [
       "<seaborn.axisgrid.FacetGrid at 0x7fd54c4737f0>"
      ]
     },
     "execution_count": null,
     "metadata": {},
     "output_type": "execute_result"
    },
    {
     "data": {
      "image/png": "[encoded data removed]",
      "text/plain": [
       "<Figure size 360x360 with 1 Axes>"
      ]
     },
     "metadata": {
      "needs_background": "light"
     },
     "output_type": "display_data"
    }
   ],
   "source": [
    "sns.displot(product.loc[product['aspect_ratio'] != 'NONE']['aspect_ratio'].dropna(axis = 0))"
   ]
  },
  {
   "cell_type": "code",
   "execution_count": null,
   "id": "1e48ecb6",
   "metadata": {},
   "outputs": [
    {
     "data": {
      "text/plain": [
       "<seaborn.axisgrid.FacetGrid at 0x7fd54c3f0d90>"
      ]
     },
     "execution_count": null,
     "metadata": {},
     "output_type": "execute_result"
    },
    {
     "data": {
      "image/png": "[encoded data removed]",
      "text/plain": [
       "<Figure size 360x360 with 1 Axes>"
      ]
     },
     "metadata": {
      "needs_background": "light"
     },
     "output_type": "display_data"
    }
   ],
   "source": [
    "sns.displot(product.loc[product['rim_size'] != 'NONE']['rim_size'].dropna(axis = 0))"
   ]
  },
  {
   "cell_type": "code",
   "execution_count": null,
   "id": "c6bcf349",
   "metadata": {},
   "outputs": [
    {
     "data": {
      "text/plain": [
       "<seaborn.axisgrid.FacetGrid at 0x7fd54296bcd0>"
      ]
     },
     "execution_count": null,
     "metadata": {},
     "output_type": "execute_result"
    },
    {
     "data": {
      "image/png": "[encoded data removed]",
      "text/plain": [
       "<Figure size 360x360 with 1 Axes>"
      ]
     },
     "metadata": {
      "needs_background": "light"
     },
     "output_type": "display_data"
    }
   ],
   "source": [
    "sns.displot(product.loc[product['cross_section'] != 'NONE']['cross_section'].dropna(axis = 0))"
   ]
  },
  {
   "cell_type": "markdown",
   "id": "5e75754c",
   "metadata": {},
   "source": [
    "Explore tires without discount:"
   ]
  },
  {
   "cell_type": "code",
   "execution_count": null,
   "id": "81933684",
   "metadata": {},
   "outputs": [],
   "source": [
    "product1 = product.loc[product['discount_flag'] == 'N']"
   ]
  },
  {
   "cell_type": "code",
   "execution_count": null,
   "id": "75cc6a51",
   "metadata": {},
   "outputs": [
    {
     "data": {
      "text/plain": [
       "(32814, 13)"
      ]
     },
     "execution_count": null,
     "metadata": {},
     "output_type": "execute_result"
    }
   ],
   "source": [
    "product1.shape"
   ]
  },
  {
   "cell_type": "code",
   "execution_count": null,
   "id": "e83ad360",
   "metadata": {},
   "outputs": [
    {
     "data": {
      "text/plain": [
       "<seaborn.axisgrid.FacetGrid at 0x7fd5430b0eb0>"
      ]
     },
     "execution_count": null,
     "metadata": {},
     "output_type": "execute_result"
    },
    {
     "data": {
      "image/png": "[encoded data removed]",
      "text/plain": [
       "<Figure size 360x360 with 1 Axes>"
      ]
     },
     "metadata": {
      "needs_background": "light"
     },
     "output_type": "display_data"
    }
   ],
   "source": [
    "sns.displot(product1.loc[product1['aspect_ratio'] != 'NONE']['aspect_ratio'].dropna(axis = 0))"
   ]
  },
  {
   "cell_type": "code",
   "execution_count": null,
   "id": "df57d653",
   "metadata": {},
   "outputs": [
    {
     "data": {
      "text/plain": [
       "<seaborn.axisgrid.FacetGrid at 0x7fd5565c5580>"
      ]
     },
     "execution_count": null,
     "metadata": {},
     "output_type": "execute_result"
    },
    {
     "data": {
      "image/png": "[encoded data removed]",
      "text/plain": [
       "<Figure size 360x360 with 1 Axes>"
      ]
     },
     "metadata": {
      "needs_background": "light"
     },
     "output_type": "display_data"
    }
   ],
   "source": [
    "sns.displot(product1.loc[product1['rim_size'] != 'NONE']['rim_size'].dropna(axis = 0))"
   ]
  },
  {
   "cell_type": "code",
   "execution_count": null,
   "id": "277e8b19",
   "metadata": {},
   "outputs": [
    {
     "data": {
      "text/plain": [
       "<seaborn.axisgrid.FacetGrid at 0x7fd556d0d4f0>"
      ]
     },
     "execution_count": null,
     "metadata": {},
     "output_type": "execute_result"
    },
    {
     "data": {
      "image/png": "[encoded data removed]",
      "text/plain": [
       "<Figure size 360x360 with 1 Axes>"
      ]
     },
     "metadata": {
      "needs_background": "light"
     },
     "output_type": "display_data"
    }
   ],
   "source": [
    "sns.displot(product1.loc[product1['cross_section'] != 'NONE']['cross_section'].dropna(axis = 0))"
   ]
  },
  {
   "cell_type": "code",
   "execution_count": null,
   "id": "20c35ad2",
   "metadata": {},
   "outputs": [],
   "source": [
    "product2 = product.loc[product['discount_flag'] == 'Y']"
   ]
  },
  {
   "cell_type": "markdown",
   "id": "b0f37133",
   "metadata": {},
   "source": [
    "We can see the distribution plots are quite similar to the former plots.\n",
    "Explore on the tires with discount:"
   ]
  },
  {
   "cell_type": "code",
   "execution_count": null,
   "id": "9efc8efd",
   "metadata": {},
   "outputs": [
    {
     "data": {
      "text/plain": [
       "(3442, 13)"
      ]
     },
     "execution_count": null,
     "metadata": {},
     "output_type": "execute_result"
    }
   ],
   "source": [
    "product2.shape"
   ]
  },
  {
   "cell_type": "code",
   "execution_count": null,
   "id": "4035cccb",
   "metadata": {},
   "outputs": [
    {
     "data": {
      "text/plain": [
       "NONE    3440\n",
       "70         2\n",
       "Name: aspect_ratio, dtype: int64"
      ]
     },
     "execution_count": null,
     "metadata": {},
     "output_type": "execute_result"
    }
   ],
   "source": [
    "product2['aspect_ratio'].value_counts()"
   ]
  },
  {
   "cell_type": "code",
   "execution_count": null,
   "id": "1e239d55",
   "metadata": {},
   "outputs": [
    {
     "data": {
      "text/plain": [
       "NONE    3403\n",
       "2450       1\n",
       "Name: rim_size, dtype: int64"
      ]
     },
     "execution_count": null,
     "metadata": {},
     "output_type": "execute_result"
    }
   ],
   "source": [
    "product2['rim_size'].value_counts()"
   ]
  },
  {
   "cell_type": "code",
   "execution_count": null,
   "id": "2f9780e3",
   "metadata": {},
   "outputs": [
    {
     "data": {
      "text/plain": [
       "NONE    3440\n",
       "11         1\n",
       "2050       1\n",
       "Name: cross_section, dtype: int64"
      ]
     },
     "execution_count": null,
     "metadata": {},
     "output_type": "execute_result"
    }
   ],
   "source": [
    "product2['cross_section'].value_counts()"
   ]
  },
  {
   "cell_type": "markdown",
   "id": "bbe320cf",
   "metadata": {},
   "source": [
    "It is meaningless to explore the size of tires with discount as many of them were not recorded."
   ]
  },
  {
   "cell_type": "code",
   "execution_count": null,
   "id": "91febd99",
   "metadata": {},
   "outputs": [],
   "source": []
  }
 ],
 "metadata": {
  "kernelspec": {
   "display_name": "Python 3",
   "language": "python",
   "name": "python3"
  }
 },
 "nbformat": 4,
 "nbformat_minor": 5
}
